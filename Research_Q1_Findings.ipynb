{
 "cells": [
  {
   "cell_type": "code",
   "execution_count": 19,
   "id": "ff5dd525",
   "metadata": {},
   "outputs": [],
   "source": [
    "import pandas as pd\n",
    "import numpy as np\n",
    "import plotly.express as px\n",
    "import plotly.offline as offline\n",
    "import plotly.graph_objects as go\n",
    "from plotly.subplots import make_subplots"
   ]
  },
  {
   "cell_type": "code",
   "execution_count": 20,
   "id": "f182771e",
   "metadata": {},
   "outputs": [
    {
     "data": {
      "text/plain": [
       "'I created a list called chunks to store the processed chunks, and then use pd.concat() to concatenate all chunks into a single DataFrame.\\nThis approach is efficient because it avoids the deprecation warnings and it is easy to read the big data size of around 1 GB.'"
      ]
     },
     "execution_count": 20,
     "metadata": {},
     "output_type": "execute_result"
    }
   ],
   "source": [
    "# Defining the chunk size (number of rows per chunk)\n",
    "chunksize = 10_000\n",
    "\n",
    "# Initializing an empty DataFrame to store the processed data\n",
    "processed_data = pd.DataFrame()\n",
    "\n",
    "def process_chunk(chunk):\n",
    "    # Filter the data for years 2018-2022\n",
    "    filtered_chunk = chunk[(chunk['REF_DATE'] >= 2018) & (chunk['REF_DATE'] <= 2022)]\n",
    "    return filtered_chunk\n",
    "\n",
    "# Reading the CSV file in chunks\n",
    "chunks = []\n",
    "for chunk in pd.read_csv('Wages_Occupation.csv', chunksize=chunksize):\n",
    "    processed_chunk = process_chunk(chunk)\n",
    "    chunks.append(processed_chunk)\n",
    "\n",
    "processed_data = pd.concat(chunks, ignore_index=True)\n",
    "\n",
    "'''I created a list called chunks to store the processed chunks, and then use pd.concat() to concatenate all chunks into a single DataFrame.\n",
    "This approach is efficient because it avoids the deprecation warnings and it is easy to read the big data size of around 1 GB.'''"
   ]
  },
  {
   "cell_type": "code",
   "execution_count": 21,
   "id": "9d190928",
   "metadata": {},
   "outputs": [],
   "source": [
    "# Filtering the data for full-time employees and median hourly wage\n",
    "full_time_data = processed_data[(processed_data['Type of work'] == 'Full-time employees') & (processed_data['Wages'] == 'Median hourly wage rate')]\n",
    "\n",
    "# Grouping the data by occupation and calculate the mean wage\n",
    "average_wages = full_time_data.groupby('National Occupational Classification (NOC)')['VALUE'].mean().reset_index()\n",
    "\n",
    "# Sorting the average_wages DataFrame by wage values in descending order\n",
    "sorted_average_wages = average_wages.sort_values(by='VALUE', ascending=True)"
   ]
  },
  {
   "cell_type": "code",
   "execution_count": 22,
   "id": "a8c4f6e8",
   "metadata": {},
   "outputs": [
    {
     "data": {
      "application/vnd.plotly.v1+json": {
       "config": {
        "plotlyServerURL": "https://plot.ly"
       },
       "data": [
        {
         "branchvalues": "total",
         "customdata": [
          [
           28.09324420677362,
           28.09324420677362
          ],
          [
           21.132462809917353,
           21.132462809917353
          ],
          [
           25.102229038854805,
           25.102229038854805
          ],
          [
           27.635226130653265,
           27.635226130653265
          ],
          [
           21.09617021276596,
           21.09617021276596
          ],
          [
           25.05714067278287,
           25.05714067278287
          ],
          [
           17.954320388349515,
           17.954320388349515
          ],
          [
           26.8051171875,
           26.8051171875
          ],
          [
           23.262879464285714,
           23.262879464285714
          ],
          [
           28.786678082191777,
           28.786678082191777
          ],
          [
           45.37434017595309,
           45.37434017595309
          ],
          [
           19.412684563758386,
           19.412684563758386
          ],
          [
           17.65057831325301,
           17.65057831325301
          ],
          [
           69.26053398058252,
           69.26053398058252
          ],
          [
           19.464800759013283,
           19.464800759013283
          ],
          [
           24.61349544072948,
           24.61349544072948
          ],
          [
           43.556672897196265,
           43.556672897196265
          ],
          [
           31.94108545034642,
           31.94108545034642
          ],
          [
           41.984330484330485,
           41.984330484330485
          ],
          [
           33.884180602006694,
           33.884180602006694
          ],
          [
           21.714232209737826,
           21.714232209737826
          ],
          [
           40.6237157107232,
           40.6237157107232
          ],
          [
           24.14903614457831,
           24.14903614457831
          ],
          [
           25.104665271966528,
           25.104665271966528
          ],
          [
           31.5890499194847,
           31.5890499194847
          ],
          [
           44.46007462686567,
           44.46007462686567
          ],
          [
           20.733636363636364,
           20.733636363636364
          ],
          [
           18.26479661016949,
           18.26479661016949
          ],
          [
           21.393270588235293,
           21.393270588235293
          ],
          [
           38.67141025641026,
           38.67141025641026
          ],
          [
           32.20367424242424,
           32.20367424242424
          ],
          [
           33.837697368421054,
           33.837697368421054
          ],
          [
           39.56900184842884,
           39.56900184842884
          ],
          [
           43.25326704545454,
           43.25326704545454
          ],
          [
           35.08785263157895,
           35.08785263157895
          ],
          [
           33.93675874769797,
           33.93675874769797
          ],
          [
           38.63194444444444,
           38.63194444444444
          ],
          [
           41.28810526315789,
           41.28810526315789
          ],
          [
           54.27977186311787,
           54.27977186311787
          ],
          [
           37.778049209138835,
           37.778049209138835
          ],
          [
           39.39113680154143,
           39.39113680154143
          ],
          [
           39.69063545150502,
           39.69063545150502
          ],
          [
           32.54330210772834,
           32.54330210772834
          ],
          [
           20.494067524115756,
           20.494067524115756
          ],
          [
           17.71663636363636,
           17.71663636363636
          ],
          [
           18.674954268292684,
           18.674954268292684
          ],
          [
           15.63469696969697,
           15.63469696969697
          ],
          [
           49.16779141104294,
           49.16779141104294
          ],
          [
           32.58679166666666,
           32.58679166666666
          ],
          [
           31.82201133144476,
           31.82201133144476
          ],
          [
           18.423654822335024,
           18.423654822335024
          ],
          [
           27.02334437086093,
           27.02334437086093
          ],
          [
           29.446768558951966,
           29.446768558951966
          ],
          [
           28.802056603773586,
           28.802056603773586
          ],
          [
           28.76751091703057,
           28.76751091703057
          ],
          [
           40.07911602209945,
           40.07911602209945
          ],
          [
           24.212409090909087,
           24.212409090909087
          ],
          [
           24.069488448844886,
           24.069488448844886
          ],
          [
           19.004068136272547,
           19.004068136272547
          ],
          [
           35.46489403141053,
           35.46489403141053
          ],
          [
           18.281420842352983,
           18.281420842352983
          ],
          [
           25.22267842639363,
           25.22267842639363
          ],
          [
           48.09473029416263,
           48.09473029416263
          ]
         ],
         "domain": {
          "x": [
           0,
           1
          ],
          "y": [
           0,
           1
          ]
         },
         "hovertemplate": "<b>%{label}:</b> %{value:.2f}",
         "ids": [
          "Medium/Administrative and financial supervisors and specialized administrative occupations [12]",
          "Medium/Administrative and financial support and supply chain logistics occupations [14]",
          "Medium/Administrative occupations and transportation logistics occupations [13]",
          "Medium/Assisting occupations in education and in legal and public protection [43]",
          "Medium/Assisting occupations in support of health services [33]",
          "Medium/Business, finance and administration occupations, except management [11-14]",
          "Low/Care providers and public protection support occupations and student monitors, crossing guards and related occupations [44-45]",
          "Medium/Front-line public protection services and paraprofessional occupations in legal, social, community, education services [42]",
          "Medium/General trades [73]",
          "Medium/Health occupations, except management [31-33]",
          "Very High/Health treating and consultation services professionals [311]",
          "Low/Helpers and labourers and other transport drivers, operators and labourers [75]",
          "Low/Labourers in processing, manufacturing and utilities [95]",
          "Very High/Legislative and senior management occupations [00]",
          "Low/Machine operators, assemblers and inspectors in processing, manufacturing and printing [94]",
          "Medium/Mail and message distribution, other transport equipment operators and related maintenance workers [74]",
          "Very High/Management occupations [00, 10, 20, 30, 40, 50, 60, 70, 80, 90]",
          "High/Middle management occupations in retail and wholesale trade and customer services [60]",
          "Very High/Middle management occupations in trades, transportation, production and utilities [70, 80, 90]",
          "High/Natural and applied sciences and related occupations, except management [21-22]",
          "Medium/Natural resources, agriculture and related production occupations, except management [82-85]",
          "Very High/Nursing and allied health professionals [313]",
          "Medium/Occupations in art, culture and sport [53]",
          "Medium/Occupations in art, culture, recreation and sport, except management [51-55]",
          "High/Occupations in education, law and social, community and government services, except management [41-45]",
          "Very High/Occupations in front-line public protection services [421]",
          "Medium/Occupations in manufacturing and utilities, except management [92-95]",
          "Low/Occupations in sales and services [63]",
          "Medium/Paraprofessional occupations in legal, social, community and education services [422]",
          "High/Professional occupations in applied sciences (except engineering) [212]",
          "High/Professional occupations in art and culture [51]",
          "High/Professional occupations in business [112]",
          "High/Professional occupations in education services [412]",
          "Very High/Professional occupations in engineering [213]",
          "High/Professional occupations in finance [111]",
          "High/Professional occupations in finance and business [11]",
          "High/Professional occupations in government services [414]",
          "Very High/Professional occupations in health [31]",
          "Very High/Professional occupations in law [411]",
          "High/Professional occupations in law, education, social, community and government services [41]",
          "High/Professional occupations in natural and applied sciences [21]",
          "High/Professional occupations in natural sciences [211]",
          "High/Professional occupations in social and community services [413]",
          "Medium/Retail sales and service supervisors and specialized occupations in sales and services [62]",
          "Low/Sales and service occupations, except management [62-65]",
          "Low/Sales and service representatives and other customer and personal services occupations [64]",
          "Low/Sales and service support occupations [65]",
          "Very High/Specialized middle management occupations [10, 20, 30, 40, 50]",
          "High/Supervisors and occupations in natural resources, agriculture and related production [82-83]",
          "High/Supervisors, central control and process operators in processing, manufacturing and utilities and aircraft assemblers and inspectors [92-93]",
          "Low/Support occupations in art, culture and sport [54-55]",
          "Medium/Technical occupations in art, culture and sport [52]",
          "Medium/Technical occupations in health [32]",
          "Medium/Technical occupations related to natural and applied sciences [22]",
          "Medium/Technical trades and transportation officers and controllers [72]",
          "Very High/Therapy and assessment professionals [312]",
          "Medium/Total employees, all occupations [00-95]",
          "Medium/Trades, transport and equipment operators and related occupations, except management [72-75]",
          "Low/Workers and labourers in natural resources, agriculture and related production [84-85]",
          "High",
          "Low",
          "Medium",
          "Very High"
         ],
         "labels": [
          "Administrative and financial supervisors and specialized administrative occupations [12]",
          "Administrative and financial support and supply chain logistics occupations [14]",
          "Administrative occupations and transportation logistics occupations [13]",
          "Assisting occupations in education and in legal and public protection [43]",
          "Assisting occupations in support of health services [33]",
          "Business, finance and administration occupations, except management [11-14]",
          "Care providers and public protection support occupations and student monitors, crossing guards and related occupations [44-45]",
          "Front-line public protection services and paraprofessional occupations in legal, social, community, education services [42]",
          "General trades [73]",
          "Health occupations, except management [31-33]",
          "Health treating and consultation services professionals [311]",
          "Helpers and labourers and other transport drivers, operators and labourers [75]",
          "Labourers in processing, manufacturing and utilities [95]",
          "Legislative and senior management occupations [00]",
          "Machine operators, assemblers and inspectors in processing, manufacturing and printing [94]",
          "Mail and message distribution, other transport equipment operators and related maintenance workers [74]",
          "Management occupations [00, 10, 20, 30, 40, 50, 60, 70, 80, 90]",
          "Middle management occupations in retail and wholesale trade and customer services [60]",
          "Middle management occupations in trades, transportation, production and utilities [70, 80, 90]",
          "Natural and applied sciences and related occupations, except management [21-22]",
          "Natural resources, agriculture and related production occupations, except management [82-85]",
          "Nursing and allied health professionals [313]",
          "Occupations in art, culture and sport [53]",
          "Occupations in art, culture, recreation and sport, except management [51-55]",
          "Occupations in education, law and social, community and government services, except management [41-45]",
          "Occupations in front-line public protection services [421]",
          "Occupations in manufacturing and utilities, except management [92-95]",
          "Occupations in sales and services [63]",
          "Paraprofessional occupations in legal, social, community and education services [422]",
          "Professional occupations in applied sciences (except engineering) [212]",
          "Professional occupations in art and culture [51]",
          "Professional occupations in business [112]",
          "Professional occupations in education services [412]",
          "Professional occupations in engineering [213]",
          "Professional occupations in finance [111]",
          "Professional occupations in finance and business [11]",
          "Professional occupations in government services [414]",
          "Professional occupations in health [31]",
          "Professional occupations in law [411]",
          "Professional occupations in law, education, social, community and government services [41]",
          "Professional occupations in natural and applied sciences [21]",
          "Professional occupations in natural sciences [211]",
          "Professional occupations in social and community services [413]",
          "Retail sales and service supervisors and specialized occupations in sales and services [62]",
          "Sales and service occupations, except management [62-65]",
          "Sales and service representatives and other customer and personal services occupations [64]",
          "Sales and service support occupations [65]",
          "Specialized middle management occupations [10, 20, 30, 40, 50]",
          "Supervisors and occupations in natural resources, agriculture and related production [82-83]",
          "Supervisors, central control and process operators in processing, manufacturing and utilities and aircraft assemblers and inspectors [92-93]",
          "Support occupations in art, culture and sport [54-55]",
          "Technical occupations in art, culture and sport [52]",
          "Technical occupations in health [32]",
          "Technical occupations related to natural and applied sciences [22]",
          "Technical trades and transportation officers and controllers [72]",
          "Therapy and assessment professionals [312]",
          "Total employees, all occupations [00-95]",
          "Trades, transport and equipment operators and related occupations, except management [72-75]",
          "Workers and labourers in natural resources, agriculture and related production [84-85]",
          "High",
          "Low",
          "Medium",
          "Very High"
         ],
         "marker": {
          "coloraxis": "coloraxis",
          "colors": [
           28.09324420677362,
           21.132462809917353,
           25.102229038854805,
           27.635226130653265,
           21.09617021276596,
           25.05714067278287,
           17.954320388349515,
           26.8051171875,
           23.262879464285714,
           28.786678082191777,
           45.37434017595309,
           19.412684563758386,
           17.65057831325301,
           69.26053398058252,
           19.464800759013283,
           24.61349544072948,
           43.556672897196265,
           31.94108545034642,
           41.984330484330485,
           33.884180602006694,
           21.714232209737826,
           40.6237157107232,
           24.14903614457831,
           25.104665271966528,
           31.5890499194847,
           44.46007462686567,
           20.733636363636364,
           18.26479661016949,
           21.393270588235293,
           38.67141025641026,
           32.20367424242424,
           33.837697368421054,
           39.56900184842884,
           43.25326704545454,
           35.08785263157895,
           33.93675874769797,
           38.63194444444444,
           41.28810526315789,
           54.27977186311787,
           37.778049209138835,
           39.39113680154143,
           39.69063545150502,
           32.54330210772834,
           20.494067524115756,
           17.71663636363636,
           18.674954268292684,
           15.63469696969697,
           49.16779141104294,
           32.58679166666666,
           31.82201133144476,
           18.423654822335024,
           27.02334437086093,
           29.446768558951966,
           28.802056603773586,
           28.76751091703057,
           40.07911602209945,
           24.212409090909087,
           24.069488448844886,
           19.004068136272547,
           35.46489403141053,
           18.281420842352983,
           25.22267842639363,
           48.09473029416263
          ]
         },
         "name": "",
         "parents": [
          "Medium",
          "Medium",
          "Medium",
          "Medium",
          "Medium",
          "Medium",
          "Low",
          "Medium",
          "Medium",
          "Medium",
          "Very High",
          "Low",
          "Low",
          "Very High",
          "Low",
          "Medium",
          "Very High",
          "High",
          "Very High",
          "High",
          "Medium",
          "Very High",
          "Medium",
          "Medium",
          "High",
          "Very High",
          "Medium",
          "Low",
          "Medium",
          "High",
          "High",
          "High",
          "High",
          "Very High",
          "High",
          "High",
          "High",
          "Very High",
          "Very High",
          "High",
          "High",
          "High",
          "High",
          "Medium",
          "Low",
          "Low",
          "Low",
          "Very High",
          "High",
          "High",
          "Low",
          "Medium",
          "Medium",
          "Medium",
          "Medium",
          "Very High",
          "Medium",
          "Medium",
          "Low",
          "",
          "",
          "",
          ""
         ],
         "textinfo": "label+value",
         "type": "treemap",
         "values": [
          28.09324420677362,
          21.132462809917353,
          25.102229038854805,
          27.635226130653265,
          21.09617021276596,
          25.05714067278287,
          17.954320388349515,
          26.8051171875,
          23.262879464285714,
          28.786678082191777,
          45.37434017595308,
          19.412684563758386,
          17.65057831325301,
          69.26053398058252,
          19.464800759013283,
          24.613495440729483,
          43.556672897196265,
          31.94108545034642,
          41.984330484330485,
          33.884180602006694,
          21.714232209737826,
          40.6237157107232,
          24.14903614457831,
          25.104665271966528,
          31.5890499194847,
          44.46007462686567,
          20.733636363636364,
          18.26479661016949,
          21.393270588235293,
          38.67141025641026,
          32.20367424242424,
          33.837697368421054,
          39.56900184842884,
          43.25326704545454,
          35.08785263157895,
          33.93675874769797,
          38.63194444444444,
          41.28810526315789,
          54.27977186311787,
          37.778049209138835,
          39.39113680154143,
          39.69063545150502,
          32.54330210772834,
          20.494067524115756,
          17.71663636363636,
          18.674954268292684,
          15.63469696969697,
          49.16779141104294,
          32.58679166666666,
          31.82201133144476,
          18.423654822335024,
          27.02334437086093,
          29.446768558951966,
          28.802056603773586,
          28.76751091703057,
          40.07911602209945,
          24.21240909090909,
          24.069488448844886,
          19.004068136272547,
          563.1645820792686,
          182.20119119477727,
          547.4951293390959,
          513.3277194805239
         ]
        }
       ],
       "layout": {
        "coloraxis": {
         "colorbar": {
          "title": {
           "text": "VALUE"
          }
         },
         "colorscale": [
          [
           0,
           "rgb(247,251,255)"
          ],
          [
           0.125,
           "rgb(222,235,247)"
          ],
          [
           0.25,
           "rgb(198,219,239)"
          ],
          [
           0.375,
           "rgb(158,202,225)"
          ],
          [
           0.5,
           "rgb(107,174,214)"
          ],
          [
           0.625,
           "rgb(66,146,198)"
          ],
          [
           0.75,
           "rgb(33,113,181)"
          ],
          [
           0.875,
           "rgb(8,81,156)"
          ],
          [
           1,
           "rgb(8,48,107)"
          ]
         ]
        },
        "legend": {
         "tracegroupgap": 0
        },
        "template": {
         "data": {
          "bar": [
           {
            "error_x": {
             "color": "#2a3f5f"
            },
            "error_y": {
             "color": "#2a3f5f"
            },
            "marker": {
             "line": {
              "color": "#E5ECF6",
              "width": 0.5
             },
             "pattern": {
              "fillmode": "overlay",
              "size": 10,
              "solidity": 0.2
             }
            },
            "type": "bar"
           }
          ],
          "barpolar": [
           {
            "marker": {
             "line": {
              "color": "#E5ECF6",
              "width": 0.5
             },
             "pattern": {
              "fillmode": "overlay",
              "size": 10,
              "solidity": 0.2
             }
            },
            "type": "barpolar"
           }
          ],
          "carpet": [
           {
            "aaxis": {
             "endlinecolor": "#2a3f5f",
             "gridcolor": "white",
             "linecolor": "white",
             "minorgridcolor": "white",
             "startlinecolor": "#2a3f5f"
            },
            "baxis": {
             "endlinecolor": "#2a3f5f",
             "gridcolor": "white",
             "linecolor": "white",
             "minorgridcolor": "white",
             "startlinecolor": "#2a3f5f"
            },
            "type": "carpet"
           }
          ],
          "choropleth": [
           {
            "colorbar": {
             "outlinewidth": 0,
             "ticks": ""
            },
            "type": "choropleth"
           }
          ],
          "contour": [
           {
            "colorbar": {
             "outlinewidth": 0,
             "ticks": ""
            },
            "colorscale": [
             [
              0,
              "#0d0887"
             ],
             [
              0.1111111111111111,
              "#46039f"
             ],
             [
              0.2222222222222222,
              "#7201a8"
             ],
             [
              0.3333333333333333,
              "#9c179e"
             ],
             [
              0.4444444444444444,
              "#bd3786"
             ],
             [
              0.5555555555555556,
              "#d8576b"
             ],
             [
              0.6666666666666666,
              "#ed7953"
             ],
             [
              0.7777777777777778,
              "#fb9f3a"
             ],
             [
              0.8888888888888888,
              "#fdca26"
             ],
             [
              1,
              "#f0f921"
             ]
            ],
            "type": "contour"
           }
          ],
          "contourcarpet": [
           {
            "colorbar": {
             "outlinewidth": 0,
             "ticks": ""
            },
            "type": "contourcarpet"
           }
          ],
          "heatmap": [
           {
            "colorbar": {
             "outlinewidth": 0,
             "ticks": ""
            },
            "colorscale": [
             [
              0,
              "#0d0887"
             ],
             [
              0.1111111111111111,
              "#46039f"
             ],
             [
              0.2222222222222222,
              "#7201a8"
             ],
             [
              0.3333333333333333,
              "#9c179e"
             ],
             [
              0.4444444444444444,
              "#bd3786"
             ],
             [
              0.5555555555555556,
              "#d8576b"
             ],
             [
              0.6666666666666666,
              "#ed7953"
             ],
             [
              0.7777777777777778,
              "#fb9f3a"
             ],
             [
              0.8888888888888888,
              "#fdca26"
             ],
             [
              1,
              "#f0f921"
             ]
            ],
            "type": "heatmap"
           }
          ],
          "heatmapgl": [
           {
            "colorbar": {
             "outlinewidth": 0,
             "ticks": ""
            },
            "colorscale": [
             [
              0,
              "#0d0887"
             ],
             [
              0.1111111111111111,
              "#46039f"
             ],
             [
              0.2222222222222222,
              "#7201a8"
             ],
             [
              0.3333333333333333,
              "#9c179e"
             ],
             [
              0.4444444444444444,
              "#bd3786"
             ],
             [
              0.5555555555555556,
              "#d8576b"
             ],
             [
              0.6666666666666666,
              "#ed7953"
             ],
             [
              0.7777777777777778,
              "#fb9f3a"
             ],
             [
              0.8888888888888888,
              "#fdca26"
             ],
             [
              1,
              "#f0f921"
             ]
            ],
            "type": "heatmapgl"
           }
          ],
          "histogram": [
           {
            "marker": {
             "pattern": {
              "fillmode": "overlay",
              "size": 10,
              "solidity": 0.2
             }
            },
            "type": "histogram"
           }
          ],
          "histogram2d": [
           {
            "colorbar": {
             "outlinewidth": 0,
             "ticks": ""
            },
            "colorscale": [
             [
              0,
              "#0d0887"
             ],
             [
              0.1111111111111111,
              "#46039f"
             ],
             [
              0.2222222222222222,
              "#7201a8"
             ],
             [
              0.3333333333333333,
              "#9c179e"
             ],
             [
              0.4444444444444444,
              "#bd3786"
             ],
             [
              0.5555555555555556,
              "#d8576b"
             ],
             [
              0.6666666666666666,
              "#ed7953"
             ],
             [
              0.7777777777777778,
              "#fb9f3a"
             ],
             [
              0.8888888888888888,
              "#fdca26"
             ],
             [
              1,
              "#f0f921"
             ]
            ],
            "type": "histogram2d"
           }
          ],
          "histogram2dcontour": [
           {
            "colorbar": {
             "outlinewidth": 0,
             "ticks": ""
            },
            "colorscale": [
             [
              0,
              "#0d0887"
             ],
             [
              0.1111111111111111,
              "#46039f"
             ],
             [
              0.2222222222222222,
              "#7201a8"
             ],
             [
              0.3333333333333333,
              "#9c179e"
             ],
             [
              0.4444444444444444,
              "#bd3786"
             ],
             [
              0.5555555555555556,
              "#d8576b"
             ],
             [
              0.6666666666666666,
              "#ed7953"
             ],
             [
              0.7777777777777778,
              "#fb9f3a"
             ],
             [
              0.8888888888888888,
              "#fdca26"
             ],
             [
              1,
              "#f0f921"
             ]
            ],
            "type": "histogram2dcontour"
           }
          ],
          "mesh3d": [
           {
            "colorbar": {
             "outlinewidth": 0,
             "ticks": ""
            },
            "type": "mesh3d"
           }
          ],
          "parcoords": [
           {
            "line": {
             "colorbar": {
              "outlinewidth": 0,
              "ticks": ""
             }
            },
            "type": "parcoords"
           }
          ],
          "pie": [
           {
            "automargin": true,
            "type": "pie"
           }
          ],
          "scatter": [
           {
            "fillpattern": {
             "fillmode": "overlay",
             "size": 10,
             "solidity": 0.2
            },
            "type": "scatter"
           }
          ],
          "scatter3d": [
           {
            "line": {
             "colorbar": {
              "outlinewidth": 0,
              "ticks": ""
             }
            },
            "marker": {
             "colorbar": {
              "outlinewidth": 0,
              "ticks": ""
             }
            },
            "type": "scatter3d"
           }
          ],
          "scattercarpet": [
           {
            "marker": {
             "colorbar": {
              "outlinewidth": 0,
              "ticks": ""
             }
            },
            "type": "scattercarpet"
           }
          ],
          "scattergeo": [
           {
            "marker": {
             "colorbar": {
              "outlinewidth": 0,
              "ticks": ""
             }
            },
            "type": "scattergeo"
           }
          ],
          "scattergl": [
           {
            "marker": {
             "colorbar": {
              "outlinewidth": 0,
              "ticks": ""
             }
            },
            "type": "scattergl"
           }
          ],
          "scattermapbox": [
           {
            "marker": {
             "colorbar": {
              "outlinewidth": 0,
              "ticks": ""
             }
            },
            "type": "scattermapbox"
           }
          ],
          "scatterpolar": [
           {
            "marker": {
             "colorbar": {
              "outlinewidth": 0,
              "ticks": ""
             }
            },
            "type": "scatterpolar"
           }
          ],
          "scatterpolargl": [
           {
            "marker": {
             "colorbar": {
              "outlinewidth": 0,
              "ticks": ""
             }
            },
            "type": "scatterpolargl"
           }
          ],
          "scatterternary": [
           {
            "marker": {
             "colorbar": {
              "outlinewidth": 0,
              "ticks": ""
             }
            },
            "type": "scatterternary"
           }
          ],
          "surface": [
           {
            "colorbar": {
             "outlinewidth": 0,
             "ticks": ""
            },
            "colorscale": [
             [
              0,
              "#0d0887"
             ],
             [
              0.1111111111111111,
              "#46039f"
             ],
             [
              0.2222222222222222,
              "#7201a8"
             ],
             [
              0.3333333333333333,
              "#9c179e"
             ],
             [
              0.4444444444444444,
              "#bd3786"
             ],
             [
              0.5555555555555556,
              "#d8576b"
             ],
             [
              0.6666666666666666,
              "#ed7953"
             ],
             [
              0.7777777777777778,
              "#fb9f3a"
             ],
             [
              0.8888888888888888,
              "#fdca26"
             ],
             [
              1,
              "#f0f921"
             ]
            ],
            "type": "surface"
           }
          ],
          "table": [
           {
            "cells": {
             "fill": {
              "color": "#EBF0F8"
             },
             "line": {
              "color": "white"
             }
            },
            "header": {
             "fill": {
              "color": "#C8D4E3"
             },
             "line": {
              "color": "white"
             }
            },
            "type": "table"
           }
          ]
         },
         "layout": {
          "annotationdefaults": {
           "arrowcolor": "#2a3f5f",
           "arrowhead": 0,
           "arrowwidth": 1
          },
          "autotypenumbers": "strict",
          "coloraxis": {
           "colorbar": {
            "outlinewidth": 0,
            "ticks": ""
           }
          },
          "colorscale": {
           "diverging": [
            [
             0,
             "#8e0152"
            ],
            [
             0.1,
             "#c51b7d"
            ],
            [
             0.2,
             "#de77ae"
            ],
            [
             0.3,
             "#f1b6da"
            ],
            [
             0.4,
             "#fde0ef"
            ],
            [
             0.5,
             "#f7f7f7"
            ],
            [
             0.6,
             "#e6f5d0"
            ],
            [
             0.7,
             "#b8e186"
            ],
            [
             0.8,
             "#7fbc41"
            ],
            [
             0.9,
             "#4d9221"
            ],
            [
             1,
             "#276419"
            ]
           ],
           "sequential": [
            [
             0,
             "#0d0887"
            ],
            [
             0.1111111111111111,
             "#46039f"
            ],
            [
             0.2222222222222222,
             "#7201a8"
            ],
            [
             0.3333333333333333,
             "#9c179e"
            ],
            [
             0.4444444444444444,
             "#bd3786"
            ],
            [
             0.5555555555555556,
             "#d8576b"
            ],
            [
             0.6666666666666666,
             "#ed7953"
            ],
            [
             0.7777777777777778,
             "#fb9f3a"
            ],
            [
             0.8888888888888888,
             "#fdca26"
            ],
            [
             1,
             "#f0f921"
            ]
           ],
           "sequentialminus": [
            [
             0,
             "#0d0887"
            ],
            [
             0.1111111111111111,
             "#46039f"
            ],
            [
             0.2222222222222222,
             "#7201a8"
            ],
            [
             0.3333333333333333,
             "#9c179e"
            ],
            [
             0.4444444444444444,
             "#bd3786"
            ],
            [
             0.5555555555555556,
             "#d8576b"
            ],
            [
             0.6666666666666666,
             "#ed7953"
            ],
            [
             0.7777777777777778,
             "#fb9f3a"
            ],
            [
             0.8888888888888888,
             "#fdca26"
            ],
            [
             1,
             "#f0f921"
            ]
           ]
          },
          "colorway": [
           "#636efa",
           "#EF553B",
           "#00cc96",
           "#ab63fa",
           "#FFA15A",
           "#19d3f3",
           "#FF6692",
           "#B6E880",
           "#FF97FF",
           "#FECB52"
          ],
          "font": {
           "color": "#2a3f5f"
          },
          "geo": {
           "bgcolor": "white",
           "lakecolor": "white",
           "landcolor": "#E5ECF6",
           "showlakes": true,
           "showland": true,
           "subunitcolor": "white"
          },
          "hoverlabel": {
           "align": "left"
          },
          "hovermode": "closest",
          "mapbox": {
           "style": "light"
          },
          "paper_bgcolor": "white",
          "plot_bgcolor": "#E5ECF6",
          "polar": {
           "angularaxis": {
            "gridcolor": "white",
            "linecolor": "white",
            "ticks": ""
           },
           "bgcolor": "#E5ECF6",
           "radialaxis": {
            "gridcolor": "white",
            "linecolor": "white",
            "ticks": ""
           }
          },
          "scene": {
           "xaxis": {
            "backgroundcolor": "#E5ECF6",
            "gridcolor": "white",
            "gridwidth": 2,
            "linecolor": "white",
            "showbackground": true,
            "ticks": "",
            "zerolinecolor": "white"
           },
           "yaxis": {
            "backgroundcolor": "#E5ECF6",
            "gridcolor": "white",
            "gridwidth": 2,
            "linecolor": "white",
            "showbackground": true,
            "ticks": "",
            "zerolinecolor": "white"
           },
           "zaxis": {
            "backgroundcolor": "#E5ECF6",
            "gridcolor": "white",
            "gridwidth": 2,
            "linecolor": "white",
            "showbackground": true,
            "ticks": "",
            "zerolinecolor": "white"
           }
          },
          "shapedefaults": {
           "line": {
            "color": "#2a3f5f"
           }
          },
          "ternary": {
           "aaxis": {
            "gridcolor": "white",
            "linecolor": "white",
            "ticks": ""
           },
           "baxis": {
            "gridcolor": "white",
            "linecolor": "white",
            "ticks": ""
           },
           "bgcolor": "#E5ECF6",
           "caxis": {
            "gridcolor": "white",
            "linecolor": "white",
            "ticks": ""
           }
          },
          "title": {
           "x": 0.05
          },
          "xaxis": {
           "automargin": true,
           "gridcolor": "white",
           "linecolor": "white",
           "ticks": "",
           "title": {
            "standoff": 15
           },
           "zerolinecolor": "white",
           "zerolinewidth": 2
          },
          "yaxis": {
           "automargin": true,
           "gridcolor": "white",
           "linecolor": "white",
           "ticks": "",
           "title": {
            "standoff": 15
           },
           "zerolinecolor": "white",
           "zerolinewidth": 2
          }
         }
        },
        "title": {
         "font": {
          "size": 25
         },
         "text": "Average Wages Across Different Occupations in Canada",
         "x": 0.5,
         "y": 0.95
        }
       }
      },
      "text/html": [
       "<div>                            <div id=\"93e99848-6879-4b59-a78c-5023d1f24b27\" class=\"plotly-graph-div\" style=\"height:525px; width:100%;\"></div>            <script type=\"text/javascript\">                require([\"plotly\"], function(Plotly) {                    window.PLOTLYENV=window.PLOTLYENV || {};                                    if (document.getElementById(\"93e99848-6879-4b59-a78c-5023d1f24b27\")) {                    Plotly.newPlot(                        \"93e99848-6879-4b59-a78c-5023d1f24b27\",                        [{\"branchvalues\":\"total\",\"customdata\":[[28.09324420677362,28.09324420677362],[21.132462809917353,21.132462809917353],[25.102229038854805,25.102229038854805],[27.635226130653265,27.635226130653265],[21.09617021276596,21.09617021276596],[25.05714067278287,25.05714067278287],[17.954320388349515,17.954320388349515],[26.8051171875,26.8051171875],[23.262879464285714,23.262879464285714],[28.786678082191777,28.786678082191777],[45.37434017595309,45.37434017595309],[19.412684563758386,19.412684563758386],[17.65057831325301,17.65057831325301],[69.26053398058252,69.26053398058252],[19.464800759013283,19.464800759013283],[24.61349544072948,24.61349544072948],[43.556672897196265,43.556672897196265],[31.94108545034642,31.94108545034642],[41.984330484330485,41.984330484330485],[33.884180602006694,33.884180602006694],[21.714232209737826,21.714232209737826],[40.6237157107232,40.6237157107232],[24.14903614457831,24.14903614457831],[25.104665271966528,25.104665271966528],[31.5890499194847,31.5890499194847],[44.46007462686567,44.46007462686567],[20.733636363636364,20.733636363636364],[18.26479661016949,18.26479661016949],[21.393270588235293,21.393270588235293],[38.67141025641026,38.67141025641026],[32.20367424242424,32.20367424242424],[33.837697368421054,33.837697368421054],[39.56900184842884,39.56900184842884],[43.25326704545454,43.25326704545454],[35.08785263157895,35.08785263157895],[33.93675874769797,33.93675874769797],[38.63194444444444,38.63194444444444],[41.28810526315789,41.28810526315789],[54.27977186311787,54.27977186311787],[37.778049209138835,37.778049209138835],[39.39113680154143,39.39113680154143],[39.69063545150502,39.69063545150502],[32.54330210772834,32.54330210772834],[20.494067524115756,20.494067524115756],[17.71663636363636,17.71663636363636],[18.674954268292684,18.674954268292684],[15.63469696969697,15.63469696969697],[49.16779141104294,49.16779141104294],[32.58679166666666,32.58679166666666],[31.82201133144476,31.82201133144476],[18.423654822335024,18.423654822335024],[27.02334437086093,27.02334437086093],[29.446768558951966,29.446768558951966],[28.802056603773586,28.802056603773586],[28.76751091703057,28.76751091703057],[40.07911602209945,40.07911602209945],[24.212409090909087,24.212409090909087],[24.069488448844886,24.069488448844886],[19.004068136272547,19.004068136272547],[35.46489403141053,35.46489403141053],[18.281420842352983,18.281420842352983],[25.22267842639363,25.22267842639363],[48.09473029416263,48.09473029416263]],\"domain\":{\"x\":[0.0,1.0],\"y\":[0.0,1.0]},\"hovertemplate\":\"<b>%{label}:</b> %{value:.2f}\",\"ids\":[\"Medium/Administrative and financial supervisors and specialized administrative occupations [12]\",\"Medium/Administrative and financial support and supply chain logistics occupations [14]\",\"Medium/Administrative occupations and transportation logistics occupations [13]\",\"Medium/Assisting occupations in education and in legal and public protection [43]\",\"Medium/Assisting occupations in support of health services [33]\",\"Medium/Business, finance and administration occupations, except management [11-14]\",\"Low/Care providers and public protection support occupations and student monitors, crossing guards and related occupations [44-45]\",\"Medium/Front-line public protection services and paraprofessional occupations in legal, social, community, education services [42]\",\"Medium/General trades [73]\",\"Medium/Health occupations, except management [31-33]\",\"Very High/Health treating and consultation services professionals [311]\",\"Low/Helpers and labourers and other transport drivers, operators and labourers [75]\",\"Low/Labourers in processing, manufacturing and utilities [95]\",\"Very High/Legislative and senior management occupations [00]\",\"Low/Machine operators, assemblers and inspectors in processing, manufacturing and printing [94]\",\"Medium/Mail and message distribution, other transport equipment operators and related maintenance workers [74]\",\"Very High/Management occupations [00, 10, 20, 30, 40, 50, 60, 70, 80, 90]\",\"High/Middle management occupations in retail and wholesale trade and customer services [60]\",\"Very High/Middle management occupations in trades, transportation, production and utilities [70, 80, 90]\",\"High/Natural and applied sciences and related occupations, except management [21-22]\",\"Medium/Natural resources, agriculture and related production occupations, except management [82-85]\",\"Very High/Nursing and allied health professionals [313]\",\"Medium/Occupations in art, culture and sport [53]\",\"Medium/Occupations in art, culture, recreation and sport, except management [51-55]\",\"High/Occupations in education, law and social, community and government services, except management [41-45]\",\"Very High/Occupations in front-line public protection services [421]\",\"Medium/Occupations in manufacturing and utilities, except management [92-95]\",\"Low/Occupations in sales and services [63]\",\"Medium/Paraprofessional occupations in legal, social, community and education services [422]\",\"High/Professional occupations in applied sciences (except engineering) [212]\",\"High/Professional occupations in art and culture [51]\",\"High/Professional occupations in business [112]\",\"High/Professional occupations in education services [412]\",\"Very High/Professional occupations in engineering [213]\",\"High/Professional occupations in finance [111]\",\"High/Professional occupations in finance and business [11]\",\"High/Professional occupations in government services [414]\",\"Very High/Professional occupations in health [31]\",\"Very High/Professional occupations in law [411]\",\"High/Professional occupations in law, education, social, community and government services [41]\",\"High/Professional occupations in natural and applied sciences [21]\",\"High/Professional occupations in natural sciences [211]\",\"High/Professional occupations in social and community services [413]\",\"Medium/Retail sales and service supervisors and specialized occupations in sales and services [62]\",\"Low/Sales and service occupations, except management [62-65]\",\"Low/Sales and service representatives and other customer and personal services occupations [64]\",\"Low/Sales and service support occupations [65]\",\"Very High/Specialized middle management occupations [10, 20, 30, 40, 50]\",\"High/Supervisors and occupations in natural resources, agriculture and related production [82-83]\",\"High/Supervisors, central control and process operators in processing, manufacturing and utilities and aircraft assemblers and inspectors [92-93]\",\"Low/Support occupations in art, culture and sport [54-55]\",\"Medium/Technical occupations in art, culture and sport [52]\",\"Medium/Technical occupations in health [32]\",\"Medium/Technical occupations related to natural and applied sciences [22]\",\"Medium/Technical trades and transportation officers and controllers [72]\",\"Very High/Therapy and assessment professionals [312]\",\"Medium/Total employees, all occupations [00-95]\",\"Medium/Trades, transport and equipment operators and related occupations, except management [72-75]\",\"Low/Workers and labourers in natural resources, agriculture and related production [84-85]\",\"High\",\"Low\",\"Medium\",\"Very High\"],\"labels\":[\"Administrative and financial supervisors and specialized administrative occupations [12]\",\"Administrative and financial support and supply chain logistics occupations [14]\",\"Administrative occupations and transportation logistics occupations [13]\",\"Assisting occupations in education and in legal and public protection [43]\",\"Assisting occupations in support of health services [33]\",\"Business, finance and administration occupations, except management [11-14]\",\"Care providers and public protection support occupations and student monitors, crossing guards and related occupations [44-45]\",\"Front-line public protection services and paraprofessional occupations in legal, social, community, education services [42]\",\"General trades [73]\",\"Health occupations, except management [31-33]\",\"Health treating and consultation services professionals [311]\",\"Helpers and labourers and other transport drivers, operators and labourers [75]\",\"Labourers in processing, manufacturing and utilities [95]\",\"Legislative and senior management occupations [00]\",\"Machine operators, assemblers and inspectors in processing, manufacturing and printing [94]\",\"Mail and message distribution, other transport equipment operators and related maintenance workers [74]\",\"Management occupations [00, 10, 20, 30, 40, 50, 60, 70, 80, 90]\",\"Middle management occupations in retail and wholesale trade and customer services [60]\",\"Middle management occupations in trades, transportation, production and utilities [70, 80, 90]\",\"Natural and applied sciences and related occupations, except management [21-22]\",\"Natural resources, agriculture and related production occupations, except management [82-85]\",\"Nursing and allied health professionals [313]\",\"Occupations in art, culture and sport [53]\",\"Occupations in art, culture, recreation and sport, except management [51-55]\",\"Occupations in education, law and social, community and government services, except management [41-45]\",\"Occupations in front-line public protection services [421]\",\"Occupations in manufacturing and utilities, except management [92-95]\",\"Occupations in sales and services [63]\",\"Paraprofessional occupations in legal, social, community and education services [422]\",\"Professional occupations in applied sciences (except engineering) [212]\",\"Professional occupations in art and culture [51]\",\"Professional occupations in business [112]\",\"Professional occupations in education services [412]\",\"Professional occupations in engineering [213]\",\"Professional occupations in finance [111]\",\"Professional occupations in finance and business [11]\",\"Professional occupations in government services [414]\",\"Professional occupations in health [31]\",\"Professional occupations in law [411]\",\"Professional occupations in law, education, social, community and government services [41]\",\"Professional occupations in natural and applied sciences [21]\",\"Professional occupations in natural sciences [211]\",\"Professional occupations in social and community services [413]\",\"Retail sales and service supervisors and specialized occupations in sales and services [62]\",\"Sales and service occupations, except management [62-65]\",\"Sales and service representatives and other customer and personal services occupations [64]\",\"Sales and service support occupations [65]\",\"Specialized middle management occupations [10, 20, 30, 40, 50]\",\"Supervisors and occupations in natural resources, agriculture and related production [82-83]\",\"Supervisors, central control and process operators in processing, manufacturing and utilities and aircraft assemblers and inspectors [92-93]\",\"Support occupations in art, culture and sport [54-55]\",\"Technical occupations in art, culture and sport [52]\",\"Technical occupations in health [32]\",\"Technical occupations related to natural and applied sciences [22]\",\"Technical trades and transportation officers and controllers [72]\",\"Therapy and assessment professionals [312]\",\"Total employees, all occupations [00-95]\",\"Trades, transport and equipment operators and related occupations, except management [72-75]\",\"Workers and labourers in natural resources, agriculture and related production [84-85]\",\"High\",\"Low\",\"Medium\",\"Very High\"],\"marker\":{\"coloraxis\":\"coloraxis\",\"colors\":[28.09324420677362,21.132462809917353,25.102229038854805,27.635226130653265,21.09617021276596,25.05714067278287,17.954320388349515,26.8051171875,23.262879464285714,28.786678082191777,45.37434017595309,19.412684563758386,17.65057831325301,69.26053398058252,19.464800759013283,24.61349544072948,43.556672897196265,31.94108545034642,41.984330484330485,33.884180602006694,21.714232209737826,40.6237157107232,24.14903614457831,25.104665271966528,31.5890499194847,44.46007462686567,20.733636363636364,18.26479661016949,21.393270588235293,38.67141025641026,32.20367424242424,33.837697368421054,39.56900184842884,43.25326704545454,35.08785263157895,33.93675874769797,38.63194444444444,41.28810526315789,54.27977186311787,37.778049209138835,39.39113680154143,39.69063545150502,32.54330210772834,20.494067524115756,17.71663636363636,18.674954268292684,15.63469696969697,49.16779141104294,32.58679166666666,31.82201133144476,18.423654822335024,27.02334437086093,29.446768558951966,28.802056603773586,28.76751091703057,40.07911602209945,24.212409090909087,24.069488448844886,19.004068136272547,35.46489403141053,18.281420842352983,25.22267842639363,48.09473029416263]},\"name\":\"\",\"parents\":[\"Medium\",\"Medium\",\"Medium\",\"Medium\",\"Medium\",\"Medium\",\"Low\",\"Medium\",\"Medium\",\"Medium\",\"Very High\",\"Low\",\"Low\",\"Very High\",\"Low\",\"Medium\",\"Very High\",\"High\",\"Very High\",\"High\",\"Medium\",\"Very High\",\"Medium\",\"Medium\",\"High\",\"Very High\",\"Medium\",\"Low\",\"Medium\",\"High\",\"High\",\"High\",\"High\",\"Very High\",\"High\",\"High\",\"High\",\"Very High\",\"Very High\",\"High\",\"High\",\"High\",\"High\",\"Medium\",\"Low\",\"Low\",\"Low\",\"Very High\",\"High\",\"High\",\"Low\",\"Medium\",\"Medium\",\"Medium\",\"Medium\",\"Very High\",\"Medium\",\"Medium\",\"Low\",\"\",\"\",\"\",\"\"],\"values\":[28.09324420677362,21.132462809917353,25.102229038854805,27.635226130653265,21.09617021276596,25.05714067278287,17.954320388349515,26.8051171875,23.262879464285714,28.786678082191777,45.37434017595308,19.412684563758386,17.65057831325301,69.26053398058252,19.464800759013283,24.613495440729483,43.556672897196265,31.94108545034642,41.984330484330485,33.884180602006694,21.714232209737826,40.6237157107232,24.14903614457831,25.104665271966528,31.5890499194847,44.46007462686567,20.733636363636364,18.26479661016949,21.393270588235293,38.67141025641026,32.20367424242424,33.837697368421054,39.56900184842884,43.25326704545454,35.08785263157895,33.93675874769797,38.63194444444444,41.28810526315789,54.27977186311787,37.778049209138835,39.39113680154143,39.69063545150502,32.54330210772834,20.494067524115756,17.71663636363636,18.674954268292684,15.63469696969697,49.16779141104294,32.58679166666666,31.82201133144476,18.423654822335024,27.02334437086093,29.446768558951966,28.802056603773586,28.76751091703057,40.07911602209945,24.21240909090909,24.069488448844886,19.004068136272547,563.1645820792686,182.20119119477727,547.4951293390959,513.3277194805239],\"type\":\"treemap\",\"textinfo\":\"label+value\"}],                        {\"template\":{\"data\":{\"histogram2dcontour\":[{\"type\":\"histogram2dcontour\",\"colorbar\":{\"outlinewidth\":0,\"ticks\":\"\"},\"colorscale\":[[0.0,\"#0d0887\"],[0.1111111111111111,\"#46039f\"],[0.2222222222222222,\"#7201a8\"],[0.3333333333333333,\"#9c179e\"],[0.4444444444444444,\"#bd3786\"],[0.5555555555555556,\"#d8576b\"],[0.6666666666666666,\"#ed7953\"],[0.7777777777777778,\"#fb9f3a\"],[0.8888888888888888,\"#fdca26\"],[1.0,\"#f0f921\"]]}],\"choropleth\":[{\"type\":\"choropleth\",\"colorbar\":{\"outlinewidth\":0,\"ticks\":\"\"}}],\"histogram2d\":[{\"type\":\"histogram2d\",\"colorbar\":{\"outlinewidth\":0,\"ticks\":\"\"},\"colorscale\":[[0.0,\"#0d0887\"],[0.1111111111111111,\"#46039f\"],[0.2222222222222222,\"#7201a8\"],[0.3333333333333333,\"#9c179e\"],[0.4444444444444444,\"#bd3786\"],[0.5555555555555556,\"#d8576b\"],[0.6666666666666666,\"#ed7953\"],[0.7777777777777778,\"#fb9f3a\"],[0.8888888888888888,\"#fdca26\"],[1.0,\"#f0f921\"]]}],\"heatmap\":[{\"type\":\"heatmap\",\"colorbar\":{\"outlinewidth\":0,\"ticks\":\"\"},\"colorscale\":[[0.0,\"#0d0887\"],[0.1111111111111111,\"#46039f\"],[0.2222222222222222,\"#7201a8\"],[0.3333333333333333,\"#9c179e\"],[0.4444444444444444,\"#bd3786\"],[0.5555555555555556,\"#d8576b\"],[0.6666666666666666,\"#ed7953\"],[0.7777777777777778,\"#fb9f3a\"],[0.8888888888888888,\"#fdca26\"],[1.0,\"#f0f921\"]]}],\"heatmapgl\":[{\"type\":\"heatmapgl\",\"colorbar\":{\"outlinewidth\":0,\"ticks\":\"\"},\"colorscale\":[[0.0,\"#0d0887\"],[0.1111111111111111,\"#46039f\"],[0.2222222222222222,\"#7201a8\"],[0.3333333333333333,\"#9c179e\"],[0.4444444444444444,\"#bd3786\"],[0.5555555555555556,\"#d8576b\"],[0.6666666666666666,\"#ed7953\"],[0.7777777777777778,\"#fb9f3a\"],[0.8888888888888888,\"#fdca26\"],[1.0,\"#f0f921\"]]}],\"contourcarpet\":[{\"type\":\"contourcarpet\",\"colorbar\":{\"outlinewidth\":0,\"ticks\":\"\"}}],\"contour\":[{\"type\":\"contour\",\"colorbar\":{\"outlinewidth\":0,\"ticks\":\"\"},\"colorscale\":[[0.0,\"#0d0887\"],[0.1111111111111111,\"#46039f\"],[0.2222222222222222,\"#7201a8\"],[0.3333333333333333,\"#9c179e\"],[0.4444444444444444,\"#bd3786\"],[0.5555555555555556,\"#d8576b\"],[0.6666666666666666,\"#ed7953\"],[0.7777777777777778,\"#fb9f3a\"],[0.8888888888888888,\"#fdca26\"],[1.0,\"#f0f921\"]]}],\"surface\":[{\"type\":\"surface\",\"colorbar\":{\"outlinewidth\":0,\"ticks\":\"\"},\"colorscale\":[[0.0,\"#0d0887\"],[0.1111111111111111,\"#46039f\"],[0.2222222222222222,\"#7201a8\"],[0.3333333333333333,\"#9c179e\"],[0.4444444444444444,\"#bd3786\"],[0.5555555555555556,\"#d8576b\"],[0.6666666666666666,\"#ed7953\"],[0.7777777777777778,\"#fb9f3a\"],[0.8888888888888888,\"#fdca26\"],[1.0,\"#f0f921\"]]}],\"mesh3d\":[{\"type\":\"mesh3d\",\"colorbar\":{\"outlinewidth\":0,\"ticks\":\"\"}}],\"scatter\":[{\"fillpattern\":{\"fillmode\":\"overlay\",\"size\":10,\"solidity\":0.2},\"type\":\"scatter\"}],\"parcoords\":[{\"type\":\"parcoords\",\"line\":{\"colorbar\":{\"outlinewidth\":0,\"ticks\":\"\"}}}],\"scatterpolargl\":[{\"type\":\"scatterpolargl\",\"marker\":{\"colorbar\":{\"outlinewidth\":0,\"ticks\":\"\"}}}],\"bar\":[{\"error_x\":{\"color\":\"#2a3f5f\"},\"error_y\":{\"color\":\"#2a3f5f\"},\"marker\":{\"line\":{\"color\":\"#E5ECF6\",\"width\":0.5},\"pattern\":{\"fillmode\":\"overlay\",\"size\":10,\"solidity\":0.2}},\"type\":\"bar\"}],\"scattergeo\":[{\"type\":\"scattergeo\",\"marker\":{\"colorbar\":{\"outlinewidth\":0,\"ticks\":\"\"}}}],\"scatterpolar\":[{\"type\":\"scatterpolar\",\"marker\":{\"colorbar\":{\"outlinewidth\":0,\"ticks\":\"\"}}}],\"histogram\":[{\"marker\":{\"pattern\":{\"fillmode\":\"overlay\",\"size\":10,\"solidity\":0.2}},\"type\":\"histogram\"}],\"scattergl\":[{\"type\":\"scattergl\",\"marker\":{\"colorbar\":{\"outlinewidth\":0,\"ticks\":\"\"}}}],\"scatter3d\":[{\"type\":\"scatter3d\",\"line\":{\"colorbar\":{\"outlinewidth\":0,\"ticks\":\"\"}},\"marker\":{\"colorbar\":{\"outlinewidth\":0,\"ticks\":\"\"}}}],\"scattermapbox\":[{\"type\":\"scattermapbox\",\"marker\":{\"colorbar\":{\"outlinewidth\":0,\"ticks\":\"\"}}}],\"scatterternary\":[{\"type\":\"scatterternary\",\"marker\":{\"colorbar\":{\"outlinewidth\":0,\"ticks\":\"\"}}}],\"scattercarpet\":[{\"type\":\"scattercarpet\",\"marker\":{\"colorbar\":{\"outlinewidth\":0,\"ticks\":\"\"}}}],\"carpet\":[{\"aaxis\":{\"endlinecolor\":\"#2a3f5f\",\"gridcolor\":\"white\",\"linecolor\":\"white\",\"minorgridcolor\":\"white\",\"startlinecolor\":\"#2a3f5f\"},\"baxis\":{\"endlinecolor\":\"#2a3f5f\",\"gridcolor\":\"white\",\"linecolor\":\"white\",\"minorgridcolor\":\"white\",\"startlinecolor\":\"#2a3f5f\"},\"type\":\"carpet\"}],\"table\":[{\"cells\":{\"fill\":{\"color\":\"#EBF0F8\"},\"line\":{\"color\":\"white\"}},\"header\":{\"fill\":{\"color\":\"#C8D4E3\"},\"line\":{\"color\":\"white\"}},\"type\":\"table\"}],\"barpolar\":[{\"marker\":{\"line\":{\"color\":\"#E5ECF6\",\"width\":0.5},\"pattern\":{\"fillmode\":\"overlay\",\"size\":10,\"solidity\":0.2}},\"type\":\"barpolar\"}],\"pie\":[{\"automargin\":true,\"type\":\"pie\"}]},\"layout\":{\"autotypenumbers\":\"strict\",\"colorway\":[\"#636efa\",\"#EF553B\",\"#00cc96\",\"#ab63fa\",\"#FFA15A\",\"#19d3f3\",\"#FF6692\",\"#B6E880\",\"#FF97FF\",\"#FECB52\"],\"font\":{\"color\":\"#2a3f5f\"},\"hovermode\":\"closest\",\"hoverlabel\":{\"align\":\"left\"},\"paper_bgcolor\":\"white\",\"plot_bgcolor\":\"#E5ECF6\",\"polar\":{\"bgcolor\":\"#E5ECF6\",\"angularaxis\":{\"gridcolor\":\"white\",\"linecolor\":\"white\",\"ticks\":\"\"},\"radialaxis\":{\"gridcolor\":\"white\",\"linecolor\":\"white\",\"ticks\":\"\"}},\"ternary\":{\"bgcolor\":\"#E5ECF6\",\"aaxis\":{\"gridcolor\":\"white\",\"linecolor\":\"white\",\"ticks\":\"\"},\"baxis\":{\"gridcolor\":\"white\",\"linecolor\":\"white\",\"ticks\":\"\"},\"caxis\":{\"gridcolor\":\"white\",\"linecolor\":\"white\",\"ticks\":\"\"}},\"coloraxis\":{\"colorbar\":{\"outlinewidth\":0,\"ticks\":\"\"}},\"colorscale\":{\"sequential\":[[0.0,\"#0d0887\"],[0.1111111111111111,\"#46039f\"],[0.2222222222222222,\"#7201a8\"],[0.3333333333333333,\"#9c179e\"],[0.4444444444444444,\"#bd3786\"],[0.5555555555555556,\"#d8576b\"],[0.6666666666666666,\"#ed7953\"],[0.7777777777777778,\"#fb9f3a\"],[0.8888888888888888,\"#fdca26\"],[1.0,\"#f0f921\"]],\"sequentialminus\":[[0.0,\"#0d0887\"],[0.1111111111111111,\"#46039f\"],[0.2222222222222222,\"#7201a8\"],[0.3333333333333333,\"#9c179e\"],[0.4444444444444444,\"#bd3786\"],[0.5555555555555556,\"#d8576b\"],[0.6666666666666666,\"#ed7953\"],[0.7777777777777778,\"#fb9f3a\"],[0.8888888888888888,\"#fdca26\"],[1.0,\"#f0f921\"]],\"diverging\":[[0,\"#8e0152\"],[0.1,\"#c51b7d\"],[0.2,\"#de77ae\"],[0.3,\"#f1b6da\"],[0.4,\"#fde0ef\"],[0.5,\"#f7f7f7\"],[0.6,\"#e6f5d0\"],[0.7,\"#b8e186\"],[0.8,\"#7fbc41\"],[0.9,\"#4d9221\"],[1,\"#276419\"]]},\"xaxis\":{\"gridcolor\":\"white\",\"linecolor\":\"white\",\"ticks\":\"\",\"title\":{\"standoff\":15},\"zerolinecolor\":\"white\",\"automargin\":true,\"zerolinewidth\":2},\"yaxis\":{\"gridcolor\":\"white\",\"linecolor\":\"white\",\"ticks\":\"\",\"title\":{\"standoff\":15},\"zerolinecolor\":\"white\",\"automargin\":true,\"zerolinewidth\":2},\"scene\":{\"xaxis\":{\"backgroundcolor\":\"#E5ECF6\",\"gridcolor\":\"white\",\"linecolor\":\"white\",\"showbackground\":true,\"ticks\":\"\",\"zerolinecolor\":\"white\",\"gridwidth\":2},\"yaxis\":{\"backgroundcolor\":\"#E5ECF6\",\"gridcolor\":\"white\",\"linecolor\":\"white\",\"showbackground\":true,\"ticks\":\"\",\"zerolinecolor\":\"white\",\"gridwidth\":2},\"zaxis\":{\"backgroundcolor\":\"#E5ECF6\",\"gridcolor\":\"white\",\"linecolor\":\"white\",\"showbackground\":true,\"ticks\":\"\",\"zerolinecolor\":\"white\",\"gridwidth\":2}},\"shapedefaults\":{\"line\":{\"color\":\"#2a3f5f\"}},\"annotationdefaults\":{\"arrowcolor\":\"#2a3f5f\",\"arrowhead\":0,\"arrowwidth\":1},\"geo\":{\"bgcolor\":\"white\",\"landcolor\":\"#E5ECF6\",\"subunitcolor\":\"white\",\"showland\":true,\"showlakes\":true,\"lakecolor\":\"white\"},\"title\":{\"x\":0.05},\"mapbox\":{\"style\":\"light\"}}},\"coloraxis\":{\"colorbar\":{\"title\":{\"text\":\"VALUE\"}},\"colorscale\":[[0.0,\"rgb(247,251,255)\"],[0.125,\"rgb(222,235,247)\"],[0.25,\"rgb(198,219,239)\"],[0.375,\"rgb(158,202,225)\"],[0.5,\"rgb(107,174,214)\"],[0.625,\"rgb(66,146,198)\"],[0.75,\"rgb(33,113,181)\"],[0.875,\"rgb(8,81,156)\"],[1.0,\"rgb(8,48,107)\"]]},\"legend\":{\"tracegroupgap\":0},\"title\":{\"text\":\"Average Wages Across Different Occupations in Canada\",\"font\":{\"size\":25},\"x\":0.5,\"y\":0.95}},                        {\"responsive\": true}                    ).then(function(){\n",
       "                            \n",
       "var gd = document.getElementById('93e99848-6879-4b59-a78c-5023d1f24b27');\n",
       "var x = new MutationObserver(function (mutations, observer) {{\n",
       "        var display = window.getComputedStyle(gd).display;\n",
       "        if (!display || display === 'none') {{\n",
       "            console.log([gd, 'removed!']);\n",
       "            Plotly.purge(gd);\n",
       "            observer.disconnect();\n",
       "        }}\n",
       "}});\n",
       "\n",
       "// Listen for the removal of the full notebook cells\n",
       "var notebookContainer = gd.closest('#notebook-container');\n",
       "if (notebookContainer) {{\n",
       "    x.observe(notebookContainer, {childList: true});\n",
       "}}\n",
       "\n",
       "// Listen for the clearing of the current output cell\n",
       "var outputEl = gd.closest('.output');\n",
       "if (outputEl) {{\n",
       "    x.observe(outputEl, {childList: true});\n",
       "}}\n",
       "\n",
       "                        })                };                });            </script>        </div>"
      ]
     },
     "metadata": {},
     "output_type": "display_data"
    },
    {
     "data": {
      "text/plain": [
       "'fig1.1.html'"
      ]
     },
     "execution_count": 22,
     "metadata": {},
     "output_type": "execute_result"
    }
   ],
   "source": [
    "# Creating a new column for wage ranges\n",
    "def wage_range(value):\n",
    "    if value <= 20:\n",
    "        return 'Low'\n",
    "    elif 20 < value <= 30:\n",
    "        return 'Medium'\n",
    "    elif 30 < value <= 40:\n",
    "        return 'High'\n",
    "    else:\n",
    "        return 'Very High'\n",
    "\n",
    "sorted_average_wages['Wage Range'] = sorted_average_wages['VALUE'].apply(wage_range)\n",
    "\n",
    "# Creating a nested treemap using Plotly\n",
    "fig = px.treemap(sorted_average_wages,\n",
    "                 path=['Wage Range', 'National Occupational Classification (NOC)'],\n",
    "                 values='VALUE',\n",
    "                 color='VALUE',  # Set the color based on the VALUE column\n",
    "                 color_continuous_scale='Blues',  # Define the color scale\n",
    "                 title='Average Wages Across Different Occupations in Canada',\n",
    "                 labels={'National Occupational Classification (NOC)': 'Occupation'},\n",
    "                 hover_data=['VALUE'])\n",
    "\n",
    "# Customizing the appearance of the chart\n",
    "fig.update_traces(textinfo='label+value', hovertemplate='<b>%{label}:</b> %{value:.2f}')\n",
    "fig.update_layout(title=dict(x=0.5, y=0.95, font=dict(size=25)))\n",
    "\n",
    "# Showing the chart\n",
    "fig.show()\n",
    "offline.plot(fig, filename='fig1.1.html', auto_open=True)"
   ]
  },
  {
   "cell_type": "code",
   "execution_count": 24,
   "id": "cd9841b2",
   "metadata": {},
   "outputs": [
    {
     "data": {
      "application/vnd.plotly.v1+json": {
       "config": {
        "plotlyServerURL": "https://plot.ly"
       },
       "data": [
        {
         "hovertemplate": "Average Wage: %{x:.2f}<extra></extra>",
         "marker": {
          "color": [
           0.2,
           0.6210604107761545,
           0.6348580630627819,
           0.684503511392647,
           0.7493531841740515,
           0.782534156994402,
           0.8350234804761592,
           0.9037660286855091,
           0.9891144056408561,
           1
          ],
          "colorscale": [
           [
            0,
            "rgb(247,251,255)"
           ],
           [
            0.125,
            "rgb(222,235,247)"
           ],
           [
            0.25,
            "rgb(198,219,239)"
           ],
           [
            0.375,
            "rgb(158,202,225)"
           ],
           [
            0.5,
            "rgb(107,174,214)"
           ],
           [
            0.625,
            "rgb(66,146,198)"
           ],
           [
            0.75,
            "rgb(33,113,181)"
           ],
           [
            0.875,
            "rgb(8,81,156)"
           ],
           [
            1,
            "rgb(8,48,107)"
           ]
          ],
          "showscale": false
         },
         "name": "Low",
         "orientation": "h",
         "type": "bar",
         "x": [
          15.63469696969697,
          17.65057831325301,
          17.71663636363636,
          17.954320388349515,
          18.26479661016949,
          18.423654822335024,
          18.674954268292684,
          19.004068136272547,
          19.412684563758386,
          19.464800759013283
         ],
         "xaxis": "x",
         "y": [
          "Sales and service support occupations [65]",
          "Labourers in processing, manufacturing and utilities [95]",
          "Sales and service occupations, except management [62-65]",
          "Care providers and public protection support occupations and student monitors, crossing guards and related occupations [44-45]",
          "Occupations in sales and services [63]",
          "Support occupations in art, culture and sport [54-55]",
          "Sales and service representatives and other customer and personal services occupations [64]",
          "Workers and labourers in natural resources, agriculture and related production [84-85]",
          "Helpers and labourers and other transport drivers, operators and labourers [75]",
          "Machine operators, assemblers and inspectors in processing, manufacturing and printing [94]"
         ],
         "yaxis": "y"
        },
        {
         "hovertemplate": "Average Wage: %{x:.2f}<extra></extra>",
         "marker": {
          "color": [
           0.2,
           0.22140751387438604,
           0.25380299744690116,
           0.25704604975124373,
           0.2803514434913541,
           0.30903209486158323,
           0.44741690172797005,
           0.5194942764930197,
           0.526602539836017,
           0.5322654517178447,
           0.5681059292014294,
           0.6077494048700218,
           0.6117784339548968,
           0.6119961321089842,
           0.7639459768690648,
           0.7834464322075625,
           0.8381232728536574,
           0.8790510844124835,
           0.9393025511046726,
           0.9410153003709889,
           0.9423895021026869,
           1
          ],
          "colorscale": [
           [
            0,
            "rgb(247,251,255)"
           ],
           [
            0.125,
            "rgb(222,235,247)"
           ],
           [
            0.25,
            "rgb(198,219,239)"
           ],
           [
            0.375,
            "rgb(158,202,225)"
           ],
           [
            0.5,
            "rgb(107,174,214)"
           ],
           [
            0.625,
            "rgb(66,146,198)"
           ],
           [
            0.75,
            "rgb(33,113,181)"
           ],
           [
            0.875,
            "rgb(8,81,156)"
           ],
           [
            1,
            "rgb(8,48,107)"
           ]
          ],
          "showscale": false
         },
         "name": "Medium",
         "orientation": "h",
         "type": "bar",
         "x": [
          20.494067524115756,
          20.733636363636364,
          21.09617021276596,
          21.132462809917353,
          21.393270588235293,
          21.714232209737826,
          23.262879464285714,
          24.069488448844886,
          24.14903614457831,
          24.21240909090909,
          24.613495440729483,
          25.05714067278287,
          25.102229038854805,
          25.104665271966528,
          26.8051171875,
          27.02334437086093,
          27.635226130653265,
          28.09324420677362,
          28.76751091703057,
          28.786678082191777,
          28.802056603773586,
          29.446768558951966
         ],
         "xaxis": "x2",
         "y": [
          "Retail sales and service supervisors and specialized occupations in sales and services [62]",
          "Occupations in manufacturing and utilities, except management [92-95]",
          "Assisting occupations in support of health services [33]",
          "Administrative and financial support and supply chain logistics occupations [14]",
          "Paraprofessional occupations in legal, social, community and education services [422]",
          "Natural resources, agriculture and related production occupations, except management [82-85]",
          "General trades [73]",
          "Trades, transport and equipment operators and related occupations, except management [72-75]",
          "Occupations in art, culture and sport [53]",
          "Total employees, all occupations [00-95]",
          "Mail and message distribution, other transport equipment operators and related maintenance workers [74]",
          "Business, finance and administration occupations, except management [11-14]",
          "Administrative occupations and transportation logistics occupations [13]",
          "Occupations in art, culture, recreation and sport, except management [51-55]",
          "Front-line public protection services and paraprofessional occupations in legal, social, community, education services [42]",
          "Technical occupations in art, culture and sport [52]",
          "Assisting occupations in education and in legal and public protection [43]",
          "Administrative and financial supervisors and specialized administrative occupations [12]",
          "Technical trades and transportation officers and controllers [72]",
          "Health occupations, except management [31-33]",
          "Technical occupations related to natural and applied sciences [22]",
          "Technical occupations in health [32]"
         ],
         "yaxis": "y2"
        },
        {
         "hovertemplate": "Average Wage: %{x:.2f}<extra></extra>",
         "marker": {
          "color": [
           0.2,
           0.22300403159745097,
           0.2347621368158469,
           0.2606917567441908,
           0.2942286849379886,
           0.298523109407514,
           0.42204517276761766,
           0.42663521094243384,
           0.4318270979362546,
           0.5454931332407216,
           0.8111395617752137,
           0.8954583886942866,
           0.8993554838305249,
           0.9704256754404565,
           0.9879891556934937,
           1
          ],
          "colorscale": [
           [
            0,
            "rgb(247,251,255)"
           ],
           [
            0.125,
            "rgb(222,235,247)"
           ],
           [
            0.25,
            "rgb(198,219,239)"
           ],
           [
            0.375,
            "rgb(158,202,225)"
           ],
           [
            0.5,
            "rgb(107,174,214)"
           ],
           [
            0.625,
            "rgb(66,146,198)"
           ],
           [
            0.75,
            "rgb(33,113,181)"
           ],
           [
            0.875,
            "rgb(8,81,156)"
           ],
           [
            1,
            "rgb(8,48,107)"
           ]
          ],
          "showscale": false
         },
         "name": "High",
         "orientation": "h",
         "type": "bar",
         "x": [
          31.5890499194847,
          31.82201133144476,
          31.94108545034642,
          32.20367424242424,
          32.54330210772834,
          32.58679166666666,
          33.837697368421054,
          33.884180602006694,
          33.93675874769797,
          35.08785263157895,
          37.778049209138835,
          38.63194444444444,
          38.67141025641026,
          39.39113680154143,
          39.56900184842884,
          39.69063545150502
         ],
         "xaxis": "x3",
         "y": [
          "Occupations in education, law and social, community and government services, except management [41-45]",
          "Supervisors, central control and process operators in processing, manufacturing and utilities and aircraft assemblers and inspectors [92-93]",
          "Middle management occupations in retail and wholesale trade and customer services [60]",
          "Professional occupations in art and culture [51]",
          "Professional occupations in social and community services [413]",
          "Supervisors and occupations in natural resources, agriculture and related production [82-83]",
          "Professional occupations in business [112]",
          "Natural and applied sciences and related occupations, except management [21-22]",
          "Professional occupations in finance and business [11]",
          "Professional occupations in finance [111]",
          "Professional occupations in law, education, social, community and government services [41]",
          "Professional occupations in government services [414]",
          "Professional occupations in applied sciences (except engineering) [212]",
          "Professional occupations in natural and applied sciences [21]",
          "Professional occupations in education services [412]",
          "Professional occupations in natural sciences [211]"
         ],
         "yaxis": "y3"
        },
        {
         "hovertemplate": "Average Wage: %{x:.2f}<extra></extra>",
         "marker": {
          "color": [
           0.2,
           0.21493004046338146,
           0.2331440848495708,
           0.25223089474107446,
           0.28701841775806824,
           0.2953362000446832,
           0.32010269304936695,
           0.345167014471668,
           0.4491633655876247,
           0.5893068078109693,
           1
          ],
          "colorscale": [
           [
            0,
            "rgb(247,251,255)"
           ],
           [
            0.125,
            "rgb(222,235,247)"
           ],
           [
            0.25,
            "rgb(198,219,239)"
           ],
           [
            0.375,
            "rgb(158,202,225)"
           ],
           [
            0.5,
            "rgb(107,174,214)"
           ],
           [
            0.625,
            "rgb(66,146,198)"
           ],
           [
            0.75,
            "rgb(33,113,181)"
           ],
           [
            0.875,
            "rgb(8,81,156)"
           ],
           [
            1,
            "rgb(8,48,107)"
           ]
          ],
          "showscale": false
         },
         "name": "Very High",
         "orientation": "h",
         "type": "bar",
         "x": [
          40.07911602209945,
          40.6237157107232,
          41.28810526315789,
          41.984330484330485,
          43.25326704545454,
          43.556672897196265,
          44.46007462686567,
          45.37434017595308,
          49.16779141104294,
          54.27977186311787,
          69.26053398058252
         ],
         "xaxis": "x4",
         "y": [
          "Therapy and assessment professionals [312]",
          "Nursing and allied health professionals [313]",
          "Professional occupations in health [31]",
          "Middle management occupations in trades, transportation, production and utilities [70, 80, 90]",
          "Professional occupations in engineering [213]",
          "Management occupations [00, 10, 20, 30, 40, 50, 60, 70, 80, 90]",
          "Occupations in front-line public protection services [421]",
          "Health treating and consultation services professionals [311]",
          "Specialized middle management occupations [10, 20, 30, 40, 50]",
          "Professional occupations in law [411]",
          "Legislative and senior management occupations [00]"
         ],
         "yaxis": "y4"
        }
       ],
       "layout": {
        "annotations": [
         {
          "font": {
           "size": 12
          },
          "showarrow": false,
          "text": "Low",
          "x": 0.5,
          "xanchor": "center",
          "xref": "paper",
          "y": 1,
          "yanchor": "bottom",
          "yref": "paper"
         },
         {
          "font": {
           "size": 12
          },
          "showarrow": false,
          "text": "Medium",
          "x": 0.5,
          "xanchor": "center",
          "xref": "paper",
          "y": 0.7200000000000001,
          "yanchor": "bottom",
          "yref": "paper"
         },
         {
          "font": {
           "size": 12
          },
          "showarrow": false,
          "text": "High",
          "x": 0.5,
          "xanchor": "center",
          "xref": "paper",
          "y": 0.44000000000000006,
          "yanchor": "bottom",
          "yref": "paper"
         },
         {
          "font": {
           "size": 12
          },
          "showarrow": false,
          "text": "Very High",
          "x": 0.5,
          "xanchor": "center",
          "xref": "paper",
          "y": 0.16,
          "yanchor": "bottom",
          "yref": "paper"
         }
        ],
        "height": 1200,
        "margin": {
         "b": 0,
         "l": 300,
         "r": 0,
         "t": 100
        },
        "template": {
         "data": {
          "bar": [
           {
            "error_x": {
             "color": "#2a3f5f"
            },
            "error_y": {
             "color": "#2a3f5f"
            },
            "marker": {
             "line": {
              "color": "#E5ECF6",
              "width": 0.5
             },
             "pattern": {
              "fillmode": "overlay",
              "size": 10,
              "solidity": 0.2
             }
            },
            "type": "bar"
           }
          ],
          "barpolar": [
           {
            "marker": {
             "line": {
              "color": "#E5ECF6",
              "width": 0.5
             },
             "pattern": {
              "fillmode": "overlay",
              "size": 10,
              "solidity": 0.2
             }
            },
            "type": "barpolar"
           }
          ],
          "carpet": [
           {
            "aaxis": {
             "endlinecolor": "#2a3f5f",
             "gridcolor": "white",
             "linecolor": "white",
             "minorgridcolor": "white",
             "startlinecolor": "#2a3f5f"
            },
            "baxis": {
             "endlinecolor": "#2a3f5f",
             "gridcolor": "white",
             "linecolor": "white",
             "minorgridcolor": "white",
             "startlinecolor": "#2a3f5f"
            },
            "type": "carpet"
           }
          ],
          "choropleth": [
           {
            "colorbar": {
             "outlinewidth": 0,
             "ticks": ""
            },
            "type": "choropleth"
           }
          ],
          "contour": [
           {
            "colorbar": {
             "outlinewidth": 0,
             "ticks": ""
            },
            "colorscale": [
             [
              0,
              "#0d0887"
             ],
             [
              0.1111111111111111,
              "#46039f"
             ],
             [
              0.2222222222222222,
              "#7201a8"
             ],
             [
              0.3333333333333333,
              "#9c179e"
             ],
             [
              0.4444444444444444,
              "#bd3786"
             ],
             [
              0.5555555555555556,
              "#d8576b"
             ],
             [
              0.6666666666666666,
              "#ed7953"
             ],
             [
              0.7777777777777778,
              "#fb9f3a"
             ],
             [
              0.8888888888888888,
              "#fdca26"
             ],
             [
              1,
              "#f0f921"
             ]
            ],
            "type": "contour"
           }
          ],
          "contourcarpet": [
           {
            "colorbar": {
             "outlinewidth": 0,
             "ticks": ""
            },
            "type": "contourcarpet"
           }
          ],
          "heatmap": [
           {
            "colorbar": {
             "outlinewidth": 0,
             "ticks": ""
            },
            "colorscale": [
             [
              0,
              "#0d0887"
             ],
             [
              0.1111111111111111,
              "#46039f"
             ],
             [
              0.2222222222222222,
              "#7201a8"
             ],
             [
              0.3333333333333333,
              "#9c179e"
             ],
             [
              0.4444444444444444,
              "#bd3786"
             ],
             [
              0.5555555555555556,
              "#d8576b"
             ],
             [
              0.6666666666666666,
              "#ed7953"
             ],
             [
              0.7777777777777778,
              "#fb9f3a"
             ],
             [
              0.8888888888888888,
              "#fdca26"
             ],
             [
              1,
              "#f0f921"
             ]
            ],
            "type": "heatmap"
           }
          ],
          "heatmapgl": [
           {
            "colorbar": {
             "outlinewidth": 0,
             "ticks": ""
            },
            "colorscale": [
             [
              0,
              "#0d0887"
             ],
             [
              0.1111111111111111,
              "#46039f"
             ],
             [
              0.2222222222222222,
              "#7201a8"
             ],
             [
              0.3333333333333333,
              "#9c179e"
             ],
             [
              0.4444444444444444,
              "#bd3786"
             ],
             [
              0.5555555555555556,
              "#d8576b"
             ],
             [
              0.6666666666666666,
              "#ed7953"
             ],
             [
              0.7777777777777778,
              "#fb9f3a"
             ],
             [
              0.8888888888888888,
              "#fdca26"
             ],
             [
              1,
              "#f0f921"
             ]
            ],
            "type": "heatmapgl"
           }
          ],
          "histogram": [
           {
            "marker": {
             "pattern": {
              "fillmode": "overlay",
              "size": 10,
              "solidity": 0.2
             }
            },
            "type": "histogram"
           }
          ],
          "histogram2d": [
           {
            "colorbar": {
             "outlinewidth": 0,
             "ticks": ""
            },
            "colorscale": [
             [
              0,
              "#0d0887"
             ],
             [
              0.1111111111111111,
              "#46039f"
             ],
             [
              0.2222222222222222,
              "#7201a8"
             ],
             [
              0.3333333333333333,
              "#9c179e"
             ],
             [
              0.4444444444444444,
              "#bd3786"
             ],
             [
              0.5555555555555556,
              "#d8576b"
             ],
             [
              0.6666666666666666,
              "#ed7953"
             ],
             [
              0.7777777777777778,
              "#fb9f3a"
             ],
             [
              0.8888888888888888,
              "#fdca26"
             ],
             [
              1,
              "#f0f921"
             ]
            ],
            "type": "histogram2d"
           }
          ],
          "histogram2dcontour": [
           {
            "colorbar": {
             "outlinewidth": 0,
             "ticks": ""
            },
            "colorscale": [
             [
              0,
              "#0d0887"
             ],
             [
              0.1111111111111111,
              "#46039f"
             ],
             [
              0.2222222222222222,
              "#7201a8"
             ],
             [
              0.3333333333333333,
              "#9c179e"
             ],
             [
              0.4444444444444444,
              "#bd3786"
             ],
             [
              0.5555555555555556,
              "#d8576b"
             ],
             [
              0.6666666666666666,
              "#ed7953"
             ],
             [
              0.7777777777777778,
              "#fb9f3a"
             ],
             [
              0.8888888888888888,
              "#fdca26"
             ],
             [
              1,
              "#f0f921"
             ]
            ],
            "type": "histogram2dcontour"
           }
          ],
          "mesh3d": [
           {
            "colorbar": {
             "outlinewidth": 0,
             "ticks": ""
            },
            "type": "mesh3d"
           }
          ],
          "parcoords": [
           {
            "line": {
             "colorbar": {
              "outlinewidth": 0,
              "ticks": ""
             }
            },
            "type": "parcoords"
           }
          ],
          "pie": [
           {
            "automargin": true,
            "type": "pie"
           }
          ],
          "scatter": [
           {
            "fillpattern": {
             "fillmode": "overlay",
             "size": 10,
             "solidity": 0.2
            },
            "type": "scatter"
           }
          ],
          "scatter3d": [
           {
            "line": {
             "colorbar": {
              "outlinewidth": 0,
              "ticks": ""
             }
            },
            "marker": {
             "colorbar": {
              "outlinewidth": 0,
              "ticks": ""
             }
            },
            "type": "scatter3d"
           }
          ],
          "scattercarpet": [
           {
            "marker": {
             "colorbar": {
              "outlinewidth": 0,
              "ticks": ""
             }
            },
            "type": "scattercarpet"
           }
          ],
          "scattergeo": [
           {
            "marker": {
             "colorbar": {
              "outlinewidth": 0,
              "ticks": ""
             }
            },
            "type": "scattergeo"
           }
          ],
          "scattergl": [
           {
            "marker": {
             "colorbar": {
              "outlinewidth": 0,
              "ticks": ""
             }
            },
            "type": "scattergl"
           }
          ],
          "scattermapbox": [
           {
            "marker": {
             "colorbar": {
              "outlinewidth": 0,
              "ticks": ""
             }
            },
            "type": "scattermapbox"
           }
          ],
          "scatterpolar": [
           {
            "marker": {
             "colorbar": {
              "outlinewidth": 0,
              "ticks": ""
             }
            },
            "type": "scatterpolar"
           }
          ],
          "scatterpolargl": [
           {
            "marker": {
             "colorbar": {
              "outlinewidth": 0,
              "ticks": ""
             }
            },
            "type": "scatterpolargl"
           }
          ],
          "scatterternary": [
           {
            "marker": {
             "colorbar": {
              "outlinewidth": 0,
              "ticks": ""
             }
            },
            "type": "scatterternary"
           }
          ],
          "surface": [
           {
            "colorbar": {
             "outlinewidth": 0,
             "ticks": ""
            },
            "colorscale": [
             [
              0,
              "#0d0887"
             ],
             [
              0.1111111111111111,
              "#46039f"
             ],
             [
              0.2222222222222222,
              "#7201a8"
             ],
             [
              0.3333333333333333,
              "#9c179e"
             ],
             [
              0.4444444444444444,
              "#bd3786"
             ],
             [
              0.5555555555555556,
              "#d8576b"
             ],
             [
              0.6666666666666666,
              "#ed7953"
             ],
             [
              0.7777777777777778,
              "#fb9f3a"
             ],
             [
              0.8888888888888888,
              "#fdca26"
             ],
             [
              1,
              "#f0f921"
             ]
            ],
            "type": "surface"
           }
          ],
          "table": [
           {
            "cells": {
             "fill": {
              "color": "#EBF0F8"
             },
             "line": {
              "color": "white"
             }
            },
            "header": {
             "fill": {
              "color": "#C8D4E3"
             },
             "line": {
              "color": "white"
             }
            },
            "type": "table"
           }
          ]
         },
         "layout": {
          "annotationdefaults": {
           "arrowcolor": "#2a3f5f",
           "arrowhead": 0,
           "arrowwidth": 1
          },
          "autotypenumbers": "strict",
          "coloraxis": {
           "colorbar": {
            "outlinewidth": 0,
            "ticks": ""
           }
          },
          "colorscale": {
           "diverging": [
            [
             0,
             "#8e0152"
            ],
            [
             0.1,
             "#c51b7d"
            ],
            [
             0.2,
             "#de77ae"
            ],
            [
             0.3,
             "#f1b6da"
            ],
            [
             0.4,
             "#fde0ef"
            ],
            [
             0.5,
             "#f7f7f7"
            ],
            [
             0.6,
             "#e6f5d0"
            ],
            [
             0.7,
             "#b8e186"
            ],
            [
             0.8,
             "#7fbc41"
            ],
            [
             0.9,
             "#4d9221"
            ],
            [
             1,
             "#276419"
            ]
           ],
           "sequential": [
            [
             0,
             "#0d0887"
            ],
            [
             0.1111111111111111,
             "#46039f"
            ],
            [
             0.2222222222222222,
             "#7201a8"
            ],
            [
             0.3333333333333333,
             "#9c179e"
            ],
            [
             0.4444444444444444,
             "#bd3786"
            ],
            [
             0.5555555555555556,
             "#d8576b"
            ],
            [
             0.6666666666666666,
             "#ed7953"
            ],
            [
             0.7777777777777778,
             "#fb9f3a"
            ],
            [
             0.8888888888888888,
             "#fdca26"
            ],
            [
             1,
             "#f0f921"
            ]
           ],
           "sequentialminus": [
            [
             0,
             "#0d0887"
            ],
            [
             0.1111111111111111,
             "#46039f"
            ],
            [
             0.2222222222222222,
             "#7201a8"
            ],
            [
             0.3333333333333333,
             "#9c179e"
            ],
            [
             0.4444444444444444,
             "#bd3786"
            ],
            [
             0.5555555555555556,
             "#d8576b"
            ],
            [
             0.6666666666666666,
             "#ed7953"
            ],
            [
             0.7777777777777778,
             "#fb9f3a"
            ],
            [
             0.8888888888888888,
             "#fdca26"
            ],
            [
             1,
             "#f0f921"
            ]
           ]
          },
          "colorway": [
           "#636efa",
           "#EF553B",
           "#00cc96",
           "#ab63fa",
           "#FFA15A",
           "#19d3f3",
           "#FF6692",
           "#B6E880",
           "#FF97FF",
           "#FECB52"
          ],
          "font": {
           "color": "#2a3f5f"
          },
          "geo": {
           "bgcolor": "white",
           "lakecolor": "white",
           "landcolor": "#E5ECF6",
           "showlakes": true,
           "showland": true,
           "subunitcolor": "white"
          },
          "hoverlabel": {
           "align": "left"
          },
          "hovermode": "closest",
          "mapbox": {
           "style": "light"
          },
          "paper_bgcolor": "white",
          "plot_bgcolor": "#E5ECF6",
          "polar": {
           "angularaxis": {
            "gridcolor": "white",
            "linecolor": "white",
            "ticks": ""
           },
           "bgcolor": "#E5ECF6",
           "radialaxis": {
            "gridcolor": "white",
            "linecolor": "white",
            "ticks": ""
           }
          },
          "scene": {
           "xaxis": {
            "backgroundcolor": "#E5ECF6",
            "gridcolor": "white",
            "gridwidth": 2,
            "linecolor": "white",
            "showbackground": true,
            "ticks": "",
            "zerolinecolor": "white"
           },
           "yaxis": {
            "backgroundcolor": "#E5ECF6",
            "gridcolor": "white",
            "gridwidth": 2,
            "linecolor": "white",
            "showbackground": true,
            "ticks": "",
            "zerolinecolor": "white"
           },
           "zaxis": {
            "backgroundcolor": "#E5ECF6",
            "gridcolor": "white",
            "gridwidth": 2,
            "linecolor": "white",
            "showbackground": true,
            "ticks": "",
            "zerolinecolor": "white"
           }
          },
          "shapedefaults": {
           "line": {
            "color": "#2a3f5f"
           }
          },
          "ternary": {
           "aaxis": {
            "gridcolor": "white",
            "linecolor": "white",
            "ticks": ""
           },
           "baxis": {
            "gridcolor": "white",
            "linecolor": "white",
            "ticks": ""
           },
           "bgcolor": "#E5ECF6",
           "caxis": {
            "gridcolor": "white",
            "linecolor": "white",
            "ticks": ""
           }
          },
          "title": {
           "x": 0.05
          },
          "xaxis": {
           "automargin": true,
           "gridcolor": "white",
           "linecolor": "white",
           "ticks": "",
           "title": {
            "standoff": 15
           },
           "zerolinecolor": "white",
           "zerolinewidth": 2
          },
          "yaxis": {
           "automargin": true,
           "gridcolor": "white",
           "linecolor": "white",
           "ticks": "",
           "title": {
            "standoff": 15
           },
           "zerolinecolor": "white",
           "zerolinewidth": 2
          }
         }
        },
        "title": {
         "text": "Average Wages Across Different Occupations in Canada (By Wage Range)"
        },
        "width": 1000,
        "xaxis": {
         "anchor": "y",
         "domain": [
          0,
          1
         ],
         "title": {
          "text": "Average Wage"
         }
        },
        "xaxis2": {
         "anchor": "y2",
         "domain": [
          0,
          1
         ],
         "title": {
          "text": "Average Wage"
         }
        },
        "xaxis3": {
         "anchor": "y3",
         "domain": [
          0,
          1
         ],
         "title": {
          "text": "Average Wage"
         }
        },
        "xaxis4": {
         "anchor": "y4",
         "domain": [
          0,
          1
         ],
         "title": {
          "text": "Average Wage"
         }
        },
        "yaxis": {
         "anchor": "x",
         "domain": [
          0.84,
          1
         ],
         "title": {
          "text": "Occupation"
         }
        },
        "yaxis2": {
         "anchor": "x2",
         "domain": [
          0.56,
          0.7200000000000001
         ],
         "title": {
          "text": "Occupation"
         }
        },
        "yaxis3": {
         "anchor": "x3",
         "domain": [
          0.28,
          0.44000000000000006
         ],
         "title": {
          "text": "Occupation"
         }
        },
        "yaxis4": {
         "anchor": "x4",
         "domain": [
          0,
          0.16
         ],
         "title": {
          "text": "Occupation"
         }
        }
       }
      },
      "text/html": [
       "<div>                            <div id=\"0654ceb5-e5ca-4c9c-b835-8b3e429db84d\" class=\"plotly-graph-div\" style=\"height:1200px; width:1000px;\"></div>            <script type=\"text/javascript\">                require([\"plotly\"], function(Plotly) {                    window.PLOTLYENV=window.PLOTLYENV || {};                                    if (document.getElementById(\"0654ceb5-e5ca-4c9c-b835-8b3e429db84d\")) {                    Plotly.newPlot(                        \"0654ceb5-e5ca-4c9c-b835-8b3e429db84d\",                        [{\"hovertemplate\":\"Average Wage: %{x:.2f}<extra></extra>\",\"marker\":{\"color\":[0.2,0.6210604107761545,0.6348580630627819,0.684503511392647,0.7493531841740515,0.782534156994402,0.8350234804761592,0.9037660286855091,0.9891144056408561,1.0],\"colorscale\":[[0.0,\"rgb(247,251,255)\"],[0.125,\"rgb(222,235,247)\"],[0.25,\"rgb(198,219,239)\"],[0.375,\"rgb(158,202,225)\"],[0.5,\"rgb(107,174,214)\"],[0.625,\"rgb(66,146,198)\"],[0.75,\"rgb(33,113,181)\"],[0.875,\"rgb(8,81,156)\"],[1.0,\"rgb(8,48,107)\"]],\"showscale\":false},\"name\":\"Low\",\"orientation\":\"h\",\"x\":[15.63469696969697,17.65057831325301,17.71663636363636,17.954320388349515,18.26479661016949,18.423654822335024,18.674954268292684,19.004068136272547,19.412684563758386,19.464800759013283],\"y\":[\"Sales and service support occupations [65]\",\"Labourers in processing, manufacturing and utilities [95]\",\"Sales and service occupations, except management [62-65]\",\"Care providers and public protection support occupations and student monitors, crossing guards and related occupations [44-45]\",\"Occupations in sales and services [63]\",\"Support occupations in art, culture and sport [54-55]\",\"Sales and service representatives and other customer and personal services occupations [64]\",\"Workers and labourers in natural resources, agriculture and related production [84-85]\",\"Helpers and labourers and other transport drivers, operators and labourers [75]\",\"Machine operators, assemblers and inspectors in processing, manufacturing and printing [94]\"],\"type\":\"bar\",\"xaxis\":\"x\",\"yaxis\":\"y\"},{\"hovertemplate\":\"Average Wage: %{x:.2f}<extra></extra>\",\"marker\":{\"color\":[0.2,0.22140751387438604,0.25380299744690116,0.25704604975124373,0.2803514434913541,0.30903209486158323,0.44741690172797005,0.5194942764930197,0.526602539836017,0.5322654517178447,0.5681059292014294,0.6077494048700218,0.6117784339548968,0.6119961321089842,0.7639459768690648,0.7834464322075625,0.8381232728536574,0.8790510844124835,0.9393025511046726,0.9410153003709889,0.9423895021026869,1.0],\"colorscale\":[[0.0,\"rgb(247,251,255)\"],[0.125,\"rgb(222,235,247)\"],[0.25,\"rgb(198,219,239)\"],[0.375,\"rgb(158,202,225)\"],[0.5,\"rgb(107,174,214)\"],[0.625,\"rgb(66,146,198)\"],[0.75,\"rgb(33,113,181)\"],[0.875,\"rgb(8,81,156)\"],[1.0,\"rgb(8,48,107)\"]],\"showscale\":false},\"name\":\"Medium\",\"orientation\":\"h\",\"x\":[20.494067524115756,20.733636363636364,21.09617021276596,21.132462809917353,21.393270588235293,21.714232209737826,23.262879464285714,24.069488448844886,24.14903614457831,24.21240909090909,24.613495440729483,25.05714067278287,25.102229038854805,25.104665271966528,26.8051171875,27.02334437086093,27.635226130653265,28.09324420677362,28.76751091703057,28.786678082191777,28.802056603773586,29.446768558951966],\"y\":[\"Retail sales and service supervisors and specialized occupations in sales and services [62]\",\"Occupations in manufacturing and utilities, except management [92-95]\",\"Assisting occupations in support of health services [33]\",\"Administrative and financial support and supply chain logistics occupations [14]\",\"Paraprofessional occupations in legal, social, community and education services [422]\",\"Natural resources, agriculture and related production occupations, except management [82-85]\",\"General trades [73]\",\"Trades, transport and equipment operators and related occupations, except management [72-75]\",\"Occupations in art, culture and sport [53]\",\"Total employees, all occupations [00-95]\",\"Mail and message distribution, other transport equipment operators and related maintenance workers [74]\",\"Business, finance and administration occupations, except management [11-14]\",\"Administrative occupations and transportation logistics occupations [13]\",\"Occupations in art, culture, recreation and sport, except management [51-55]\",\"Front-line public protection services and paraprofessional occupations in legal, social, community, education services [42]\",\"Technical occupations in art, culture and sport [52]\",\"Assisting occupations in education and in legal and public protection [43]\",\"Administrative and financial supervisors and specialized administrative occupations [12]\",\"Technical trades and transportation officers and controllers [72]\",\"Health occupations, except management [31-33]\",\"Technical occupations related to natural and applied sciences [22]\",\"Technical occupations in health [32]\"],\"type\":\"bar\",\"xaxis\":\"x2\",\"yaxis\":\"y2\"},{\"hovertemplate\":\"Average Wage: %{x:.2f}<extra></extra>\",\"marker\":{\"color\":[0.2,0.22300403159745097,0.2347621368158469,0.2606917567441908,0.2942286849379886,0.298523109407514,0.42204517276761766,0.42663521094243384,0.4318270979362546,0.5454931332407216,0.8111395617752137,0.8954583886942866,0.8993554838305249,0.9704256754404565,0.9879891556934937,1.0],\"colorscale\":[[0.0,\"rgb(247,251,255)\"],[0.125,\"rgb(222,235,247)\"],[0.25,\"rgb(198,219,239)\"],[0.375,\"rgb(158,202,225)\"],[0.5,\"rgb(107,174,214)\"],[0.625,\"rgb(66,146,198)\"],[0.75,\"rgb(33,113,181)\"],[0.875,\"rgb(8,81,156)\"],[1.0,\"rgb(8,48,107)\"]],\"showscale\":false},\"name\":\"High\",\"orientation\":\"h\",\"x\":[31.5890499194847,31.82201133144476,31.94108545034642,32.20367424242424,32.54330210772834,32.58679166666666,33.837697368421054,33.884180602006694,33.93675874769797,35.08785263157895,37.778049209138835,38.63194444444444,38.67141025641026,39.39113680154143,39.56900184842884,39.69063545150502],\"y\":[\"Occupations in education, law and social, community and government services, except management [41-45]\",\"Supervisors, central control and process operators in processing, manufacturing and utilities and aircraft assemblers and inspectors [92-93]\",\"Middle management occupations in retail and wholesale trade and customer services [60]\",\"Professional occupations in art and culture [51]\",\"Professional occupations in social and community services [413]\",\"Supervisors and occupations in natural resources, agriculture and related production [82-83]\",\"Professional occupations in business [112]\",\"Natural and applied sciences and related occupations, except management [21-22]\",\"Professional occupations in finance and business [11]\",\"Professional occupations in finance [111]\",\"Professional occupations in law, education, social, community and government services [41]\",\"Professional occupations in government services [414]\",\"Professional occupations in applied sciences (except engineering) [212]\",\"Professional occupations in natural and applied sciences [21]\",\"Professional occupations in education services [412]\",\"Professional occupations in natural sciences [211]\"],\"type\":\"bar\",\"xaxis\":\"x3\",\"yaxis\":\"y3\"},{\"hovertemplate\":\"Average Wage: %{x:.2f}<extra></extra>\",\"marker\":{\"color\":[0.2,0.21493004046338146,0.2331440848495708,0.25223089474107446,0.28701841775806824,0.2953362000446832,0.32010269304936695,0.345167014471668,0.4491633655876247,0.5893068078109693,1.0],\"colorscale\":[[0.0,\"rgb(247,251,255)\"],[0.125,\"rgb(222,235,247)\"],[0.25,\"rgb(198,219,239)\"],[0.375,\"rgb(158,202,225)\"],[0.5,\"rgb(107,174,214)\"],[0.625,\"rgb(66,146,198)\"],[0.75,\"rgb(33,113,181)\"],[0.875,\"rgb(8,81,156)\"],[1.0,\"rgb(8,48,107)\"]],\"showscale\":false},\"name\":\"Very High\",\"orientation\":\"h\",\"x\":[40.07911602209945,40.6237157107232,41.28810526315789,41.984330484330485,43.25326704545454,43.556672897196265,44.46007462686567,45.37434017595308,49.16779141104294,54.27977186311787,69.26053398058252],\"y\":[\"Therapy and assessment professionals [312]\",\"Nursing and allied health professionals [313]\",\"Professional occupations in health [31]\",\"Middle management occupations in trades, transportation, production and utilities [70, 80, 90]\",\"Professional occupations in engineering [213]\",\"Management occupations [00, 10, 20, 30, 40, 50, 60, 70, 80, 90]\",\"Occupations in front-line public protection services [421]\",\"Health treating and consultation services professionals [311]\",\"Specialized middle management occupations [10, 20, 30, 40, 50]\",\"Professional occupations in law [411]\",\"Legislative and senior management occupations [00]\"],\"type\":\"bar\",\"xaxis\":\"x4\",\"yaxis\":\"y4\"}],                        {\"template\":{\"data\":{\"histogram2dcontour\":[{\"type\":\"histogram2dcontour\",\"colorbar\":{\"outlinewidth\":0,\"ticks\":\"\"},\"colorscale\":[[0.0,\"#0d0887\"],[0.1111111111111111,\"#46039f\"],[0.2222222222222222,\"#7201a8\"],[0.3333333333333333,\"#9c179e\"],[0.4444444444444444,\"#bd3786\"],[0.5555555555555556,\"#d8576b\"],[0.6666666666666666,\"#ed7953\"],[0.7777777777777778,\"#fb9f3a\"],[0.8888888888888888,\"#fdca26\"],[1.0,\"#f0f921\"]]}],\"choropleth\":[{\"type\":\"choropleth\",\"colorbar\":{\"outlinewidth\":0,\"ticks\":\"\"}}],\"histogram2d\":[{\"type\":\"histogram2d\",\"colorbar\":{\"outlinewidth\":0,\"ticks\":\"\"},\"colorscale\":[[0.0,\"#0d0887\"],[0.1111111111111111,\"#46039f\"],[0.2222222222222222,\"#7201a8\"],[0.3333333333333333,\"#9c179e\"],[0.4444444444444444,\"#bd3786\"],[0.5555555555555556,\"#d8576b\"],[0.6666666666666666,\"#ed7953\"],[0.7777777777777778,\"#fb9f3a\"],[0.8888888888888888,\"#fdca26\"],[1.0,\"#f0f921\"]]}],\"heatmap\":[{\"type\":\"heatmap\",\"colorbar\":{\"outlinewidth\":0,\"ticks\":\"\"},\"colorscale\":[[0.0,\"#0d0887\"],[0.1111111111111111,\"#46039f\"],[0.2222222222222222,\"#7201a8\"],[0.3333333333333333,\"#9c179e\"],[0.4444444444444444,\"#bd3786\"],[0.5555555555555556,\"#d8576b\"],[0.6666666666666666,\"#ed7953\"],[0.7777777777777778,\"#fb9f3a\"],[0.8888888888888888,\"#fdca26\"],[1.0,\"#f0f921\"]]}],\"heatmapgl\":[{\"type\":\"heatmapgl\",\"colorbar\":{\"outlinewidth\":0,\"ticks\":\"\"},\"colorscale\":[[0.0,\"#0d0887\"],[0.1111111111111111,\"#46039f\"],[0.2222222222222222,\"#7201a8\"],[0.3333333333333333,\"#9c179e\"],[0.4444444444444444,\"#bd3786\"],[0.5555555555555556,\"#d8576b\"],[0.6666666666666666,\"#ed7953\"],[0.7777777777777778,\"#fb9f3a\"],[0.8888888888888888,\"#fdca26\"],[1.0,\"#f0f921\"]]}],\"contourcarpet\":[{\"type\":\"contourcarpet\",\"colorbar\":{\"outlinewidth\":0,\"ticks\":\"\"}}],\"contour\":[{\"type\":\"contour\",\"colorbar\":{\"outlinewidth\":0,\"ticks\":\"\"},\"colorscale\":[[0.0,\"#0d0887\"],[0.1111111111111111,\"#46039f\"],[0.2222222222222222,\"#7201a8\"],[0.3333333333333333,\"#9c179e\"],[0.4444444444444444,\"#bd3786\"],[0.5555555555555556,\"#d8576b\"],[0.6666666666666666,\"#ed7953\"],[0.7777777777777778,\"#fb9f3a\"],[0.8888888888888888,\"#fdca26\"],[1.0,\"#f0f921\"]]}],\"surface\":[{\"type\":\"surface\",\"colorbar\":{\"outlinewidth\":0,\"ticks\":\"\"},\"colorscale\":[[0.0,\"#0d0887\"],[0.1111111111111111,\"#46039f\"],[0.2222222222222222,\"#7201a8\"],[0.3333333333333333,\"#9c179e\"],[0.4444444444444444,\"#bd3786\"],[0.5555555555555556,\"#d8576b\"],[0.6666666666666666,\"#ed7953\"],[0.7777777777777778,\"#fb9f3a\"],[0.8888888888888888,\"#fdca26\"],[1.0,\"#f0f921\"]]}],\"mesh3d\":[{\"type\":\"mesh3d\",\"colorbar\":{\"outlinewidth\":0,\"ticks\":\"\"}}],\"scatter\":[{\"fillpattern\":{\"fillmode\":\"overlay\",\"size\":10,\"solidity\":0.2},\"type\":\"scatter\"}],\"parcoords\":[{\"type\":\"parcoords\",\"line\":{\"colorbar\":{\"outlinewidth\":0,\"ticks\":\"\"}}}],\"scatterpolargl\":[{\"type\":\"scatterpolargl\",\"marker\":{\"colorbar\":{\"outlinewidth\":0,\"ticks\":\"\"}}}],\"bar\":[{\"error_x\":{\"color\":\"#2a3f5f\"},\"error_y\":{\"color\":\"#2a3f5f\"},\"marker\":{\"line\":{\"color\":\"#E5ECF6\",\"width\":0.5},\"pattern\":{\"fillmode\":\"overlay\",\"size\":10,\"solidity\":0.2}},\"type\":\"bar\"}],\"scattergeo\":[{\"type\":\"scattergeo\",\"marker\":{\"colorbar\":{\"outlinewidth\":0,\"ticks\":\"\"}}}],\"scatterpolar\":[{\"type\":\"scatterpolar\",\"marker\":{\"colorbar\":{\"outlinewidth\":0,\"ticks\":\"\"}}}],\"histogram\":[{\"marker\":{\"pattern\":{\"fillmode\":\"overlay\",\"size\":10,\"solidity\":0.2}},\"type\":\"histogram\"}],\"scattergl\":[{\"type\":\"scattergl\",\"marker\":{\"colorbar\":{\"outlinewidth\":0,\"ticks\":\"\"}}}],\"scatter3d\":[{\"type\":\"scatter3d\",\"line\":{\"colorbar\":{\"outlinewidth\":0,\"ticks\":\"\"}},\"marker\":{\"colorbar\":{\"outlinewidth\":0,\"ticks\":\"\"}}}],\"scattermapbox\":[{\"type\":\"scattermapbox\",\"marker\":{\"colorbar\":{\"outlinewidth\":0,\"ticks\":\"\"}}}],\"scatterternary\":[{\"type\":\"scatterternary\",\"marker\":{\"colorbar\":{\"outlinewidth\":0,\"ticks\":\"\"}}}],\"scattercarpet\":[{\"type\":\"scattercarpet\",\"marker\":{\"colorbar\":{\"outlinewidth\":0,\"ticks\":\"\"}}}],\"carpet\":[{\"aaxis\":{\"endlinecolor\":\"#2a3f5f\",\"gridcolor\":\"white\",\"linecolor\":\"white\",\"minorgridcolor\":\"white\",\"startlinecolor\":\"#2a3f5f\"},\"baxis\":{\"endlinecolor\":\"#2a3f5f\",\"gridcolor\":\"white\",\"linecolor\":\"white\",\"minorgridcolor\":\"white\",\"startlinecolor\":\"#2a3f5f\"},\"type\":\"carpet\"}],\"table\":[{\"cells\":{\"fill\":{\"color\":\"#EBF0F8\"},\"line\":{\"color\":\"white\"}},\"header\":{\"fill\":{\"color\":\"#C8D4E3\"},\"line\":{\"color\":\"white\"}},\"type\":\"table\"}],\"barpolar\":[{\"marker\":{\"line\":{\"color\":\"#E5ECF6\",\"width\":0.5},\"pattern\":{\"fillmode\":\"overlay\",\"size\":10,\"solidity\":0.2}},\"type\":\"barpolar\"}],\"pie\":[{\"automargin\":true,\"type\":\"pie\"}]},\"layout\":{\"autotypenumbers\":\"strict\",\"colorway\":[\"#636efa\",\"#EF553B\",\"#00cc96\",\"#ab63fa\",\"#FFA15A\",\"#19d3f3\",\"#FF6692\",\"#B6E880\",\"#FF97FF\",\"#FECB52\"],\"font\":{\"color\":\"#2a3f5f\"},\"hovermode\":\"closest\",\"hoverlabel\":{\"align\":\"left\"},\"paper_bgcolor\":\"white\",\"plot_bgcolor\":\"#E5ECF6\",\"polar\":{\"bgcolor\":\"#E5ECF6\",\"angularaxis\":{\"gridcolor\":\"white\",\"linecolor\":\"white\",\"ticks\":\"\"},\"radialaxis\":{\"gridcolor\":\"white\",\"linecolor\":\"white\",\"ticks\":\"\"}},\"ternary\":{\"bgcolor\":\"#E5ECF6\",\"aaxis\":{\"gridcolor\":\"white\",\"linecolor\":\"white\",\"ticks\":\"\"},\"baxis\":{\"gridcolor\":\"white\",\"linecolor\":\"white\",\"ticks\":\"\"},\"caxis\":{\"gridcolor\":\"white\",\"linecolor\":\"white\",\"ticks\":\"\"}},\"coloraxis\":{\"colorbar\":{\"outlinewidth\":0,\"ticks\":\"\"}},\"colorscale\":{\"sequential\":[[0.0,\"#0d0887\"],[0.1111111111111111,\"#46039f\"],[0.2222222222222222,\"#7201a8\"],[0.3333333333333333,\"#9c179e\"],[0.4444444444444444,\"#bd3786\"],[0.5555555555555556,\"#d8576b\"],[0.6666666666666666,\"#ed7953\"],[0.7777777777777778,\"#fb9f3a\"],[0.8888888888888888,\"#fdca26\"],[1.0,\"#f0f921\"]],\"sequentialminus\":[[0.0,\"#0d0887\"],[0.1111111111111111,\"#46039f\"],[0.2222222222222222,\"#7201a8\"],[0.3333333333333333,\"#9c179e\"],[0.4444444444444444,\"#bd3786\"],[0.5555555555555556,\"#d8576b\"],[0.6666666666666666,\"#ed7953\"],[0.7777777777777778,\"#fb9f3a\"],[0.8888888888888888,\"#fdca26\"],[1.0,\"#f0f921\"]],\"diverging\":[[0,\"#8e0152\"],[0.1,\"#c51b7d\"],[0.2,\"#de77ae\"],[0.3,\"#f1b6da\"],[0.4,\"#fde0ef\"],[0.5,\"#f7f7f7\"],[0.6,\"#e6f5d0\"],[0.7,\"#b8e186\"],[0.8,\"#7fbc41\"],[0.9,\"#4d9221\"],[1,\"#276419\"]]},\"xaxis\":{\"gridcolor\":\"white\",\"linecolor\":\"white\",\"ticks\":\"\",\"title\":{\"standoff\":15},\"zerolinecolor\":\"white\",\"automargin\":true,\"zerolinewidth\":2},\"yaxis\":{\"gridcolor\":\"white\",\"linecolor\":\"white\",\"ticks\":\"\",\"title\":{\"standoff\":15},\"zerolinecolor\":\"white\",\"automargin\":true,\"zerolinewidth\":2},\"scene\":{\"xaxis\":{\"backgroundcolor\":\"#E5ECF6\",\"gridcolor\":\"white\",\"linecolor\":\"white\",\"showbackground\":true,\"ticks\":\"\",\"zerolinecolor\":\"white\",\"gridwidth\":2},\"yaxis\":{\"backgroundcolor\":\"#E5ECF6\",\"gridcolor\":\"white\",\"linecolor\":\"white\",\"showbackground\":true,\"ticks\":\"\",\"zerolinecolor\":\"white\",\"gridwidth\":2},\"zaxis\":{\"backgroundcolor\":\"#E5ECF6\",\"gridcolor\":\"white\",\"linecolor\":\"white\",\"showbackground\":true,\"ticks\":\"\",\"zerolinecolor\":\"white\",\"gridwidth\":2}},\"shapedefaults\":{\"line\":{\"color\":\"#2a3f5f\"}},\"annotationdefaults\":{\"arrowcolor\":\"#2a3f5f\",\"arrowhead\":0,\"arrowwidth\":1},\"geo\":{\"bgcolor\":\"white\",\"landcolor\":\"#E5ECF6\",\"subunitcolor\":\"white\",\"showland\":true,\"showlakes\":true,\"lakecolor\":\"white\"},\"title\":{\"x\":0.05},\"mapbox\":{\"style\":\"light\"}}},\"xaxis\":{\"anchor\":\"y\",\"domain\":[0.0,1.0],\"title\":{\"text\":\"Average Wage\"}},\"yaxis\":{\"anchor\":\"x\",\"domain\":[0.84,1.0],\"title\":{\"text\":\"Occupation\"}},\"xaxis2\":{\"anchor\":\"y2\",\"domain\":[0.0,1.0],\"title\":{\"text\":\"Average Wage\"}},\"yaxis2\":{\"anchor\":\"x2\",\"domain\":[0.56,0.7200000000000001],\"title\":{\"text\":\"Occupation\"}},\"xaxis3\":{\"anchor\":\"y3\",\"domain\":[0.0,1.0],\"title\":{\"text\":\"Average Wage\"}},\"yaxis3\":{\"anchor\":\"x3\",\"domain\":[0.28,0.44000000000000006],\"title\":{\"text\":\"Occupation\"}},\"xaxis4\":{\"anchor\":\"y4\",\"domain\":[0.0,1.0],\"title\":{\"text\":\"Average Wage\"}},\"yaxis4\":{\"anchor\":\"x4\",\"domain\":[0.0,0.16],\"title\":{\"text\":\"Occupation\"}},\"annotations\":[{\"font\":{\"size\":12},\"showarrow\":false,\"text\":\"Low\",\"x\":0.5,\"xanchor\":\"center\",\"xref\":\"paper\",\"y\":1.0,\"yanchor\":\"bottom\",\"yref\":\"paper\"},{\"font\":{\"size\":12},\"showarrow\":false,\"text\":\"Medium\",\"x\":0.5,\"xanchor\":\"center\",\"xref\":\"paper\",\"y\":0.7200000000000001,\"yanchor\":\"bottom\",\"yref\":\"paper\"},{\"font\":{\"size\":12},\"showarrow\":false,\"text\":\"High\",\"x\":0.5,\"xanchor\":\"center\",\"xref\":\"paper\",\"y\":0.44000000000000006,\"yanchor\":\"bottom\",\"yref\":\"paper\"},{\"font\":{\"size\":12},\"showarrow\":false,\"text\":\"Very High\",\"x\":0.5,\"xanchor\":\"center\",\"xref\":\"paper\",\"y\":0.16,\"yanchor\":\"bottom\",\"yref\":\"paper\"}],\"title\":{\"text\":\"Average Wages Across Different Occupations in Canada (By Wage Range)\"},\"margin\":{\"l\":300,\"r\":0,\"t\":100,\"b\":0},\"height\":1200,\"width\":1000},                        {\"responsive\": true}                    ).then(function(){\n",
       "                            \n",
       "var gd = document.getElementById('0654ceb5-e5ca-4c9c-b835-8b3e429db84d');\n",
       "var x = new MutationObserver(function (mutations, observer) {{\n",
       "        var display = window.getComputedStyle(gd).display;\n",
       "        if (!display || display === 'none') {{\n",
       "            console.log([gd, 'removed!']);\n",
       "            Plotly.purge(gd);\n",
       "            observer.disconnect();\n",
       "        }}\n",
       "}});\n",
       "\n",
       "// Listen for the removal of the full notebook cells\n",
       "var notebookContainer = gd.closest('#notebook-container');\n",
       "if (notebookContainer) {{\n",
       "    x.observe(notebookContainer, {childList: true});\n",
       "}}\n",
       "\n",
       "// Listen for the clearing of the current output cell\n",
       "var outputEl = gd.closest('.output');\n",
       "if (outputEl) {{\n",
       "    x.observe(outputEl, {childList: true});\n",
       "}}\n",
       "\n",
       "                        })                };                });            </script>        </div>"
      ]
     },
     "metadata": {},
     "output_type": "display_data"
    },
    {
     "data": {
      "text/plain": [
       "'fig1.2.html'"
      ]
     },
     "execution_count": 24,
     "metadata": {},
     "output_type": "execute_result"
    }
   ],
   "source": [
    "# Filtering the data for each wage range\n",
    "low_wages = sorted_average_wages[sorted_average_wages['Wage Range'] == 'Low']\n",
    "medium_wages = sorted_average_wages[sorted_average_wages['Wage Range'] == 'Medium']\n",
    "high_wages = sorted_average_wages[sorted_average_wages['Wage Range'] == 'High']\n",
    "very_high_wages = sorted_average_wages[sorted_average_wages['Wage Range'] == 'Very High']\n",
    "\n",
    "# Function to create custom color scale\n",
    "def custom_color_scale(wages, min_val, max_val):\n",
    "    return np.interp(wages, (min_val, max_val), (0.2, 1))\n",
    "\n",
    "# Creating subplots\n",
    "fig = make_subplots(rows=4, cols=1, subplot_titles=(\"Low\", \"Medium\", \"High\", \"Very High\"), vertical_spacing=0.12)\n",
    "\n",
    "# Adding bar charts for each wage range with custom hovertemplate and color scale\n",
    "fig.add_trace(go.Bar(y=low_wages['National Occupational Classification (NOC)'], x=low_wages['VALUE'], orientation='h', name=\"Low\", hovertemplate='Average Wage: %{x:.2f}<extra></extra>', marker=dict(color=custom_color_scale(low_wages['VALUE'], low_wages['VALUE'].min(), low_wages['VALUE'].max()), colorscale='Blues', showscale=False)), row=1, col=1)\n",
    "fig.add_trace(go.Bar(y=medium_wages['National Occupational Classification (NOC)'], x=medium_wages['VALUE'], orientation='h', name=\"Medium\", hovertemplate='Average Wage: %{x:.2f}<extra></extra>', marker=dict(color=custom_color_scale(medium_wages['VALUE'], medium_wages['VALUE'].min(), medium_wages['VALUE'].max()), colorscale='Blues', showscale=False)), row=2, col=1)\n",
    "fig.add_trace(go.Bar(y=high_wages['National Occupational Classification (NOC)'], x=high_wages['VALUE'], orientation='h', name=\"High\", hovertemplate='Average Wage: %{x:.2f}<extra></extra>', marker=dict(color=custom_color_scale(high_wages['VALUE'], high_wages['VALUE'].min(), high_wages['VALUE'].max()), colorscale='Blues', showscale=False)), row=3, col=1)\n",
    "fig.add_trace(go.Bar(y=very_high_wages['National Occupational Classification (NOC)'], x=very_high_wages['VALUE'], orientation='h', name=\"Very High\", hovertemplate='Average Wage: %{x:.2f}<extra></extra>', marker=dict(color=custom_color_scale(very_high_wages['VALUE'], very_high_wages['VALUE'].min(), very_high_wages['VALUE'].max()), colorscale='Blues', showscale=False)), row=4, col=1)\n",
    "\n",
    "# Customizing the layout\n",
    "fig.update_layout(\n",
    "    height=1200,\n",
    "    width=1000,\n",
    "    title_text=\"Average Wages Across Different Occupations in Canada (By Wage Range)\",\n",
    "    margin=dict(l=300, r=0, t=100, b=0),  # Adjust the left margin\n",
    ")\n",
    "\n",
    "\n",
    "# Customizing the x-axis labels\n",
    "fig.update_xaxes(title_text=\"Average Wage\", row=1, col=1)\n",
    "fig.update_xaxes(title_text=\"Average Wage\", row=2, col=1)\n",
    "fig.update_xaxes(title_text=\"Average Wage\", row=3, col=1)\n",
    "fig.update_xaxes(title_text=\"Average Wage\", row=4, col=1)\n",
    "\n",
    "# Customizing the y-axis labels\n",
    "fig.update_yaxes(title_text=\"Occupation\", row=1, col=1)\n",
    "fig.update_yaxes(title_text=\"Occupation\", row=2, col=1)\n",
    "fig.update_yaxes(title_text=\"Occupation\", row=3, col=1)\n",
    "fig.update_yaxes(title_text=\"Occupation\", row=4, col=1)\n",
    "\n",
    "# Adjusting subplot title font size\n",
    "for i in fig['layout']['annotations']:\n",
    "    i['font'] = dict(size=12)\n",
    "    \n",
    "# Showing the chart\n",
    "fig.show()\n",
    "offline.plot(fig, filename='fig1.2.html', auto_open=True)"
   ]
  },
  {
   "cell_type": "code",
   "execution_count": null,
   "id": "8b9a8a4f",
   "metadata": {},
   "outputs": [],
   "source": []
  },
  {
   "cell_type": "code",
   "execution_count": null,
   "id": "80410f00",
   "metadata": {},
   "outputs": [],
   "source": []
  }
 ],
 "metadata": {
  "kernelspec": {
   "display_name": "Python 3 (ipykernel)",
   "language": "python",
   "name": "python3"
  },
  "language_info": {
   "codemirror_mode": {
    "name": "ipython",
    "version": 3
   },
   "file_extension": ".py",
   "mimetype": "text/x-python",
   "name": "python",
   "nbconvert_exporter": "python",
   "pygments_lexer": "ipython3",
   "version": "3.9.13"
  }
 },
 "nbformat": 4,
 "nbformat_minor": 5
}
